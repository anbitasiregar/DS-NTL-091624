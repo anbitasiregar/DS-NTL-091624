{
 "cells": [
  {
   "cell_type": "markdown",
   "metadata": {
    "heading_collapsed": true
   },
   "source": [
    "# Objectives"
   ]
  },
  {
   "cell_type": "markdown",
   "metadata": {
    "hidden": true
   },
   "source": [
    "* Describe the normal distribution's Empirical Rule\n",
    "* Calculate $z$-scores from a normal distribution through standardization\n",
    "* Define the Central Limit Theorem\n"
   ]
  },
  {
   "cell_type": "code",
   "execution_count": 1,
   "metadata": {
    "hidden": true
   },
   "outputs": [],
   "source": [
    "# Imports!\n",
    "from scipy import stats\n",
    "\n",
    "import matplotlib.pyplot as plt\n",
    "%matplotlib inline\n",
    "import seaborn as sns\n",
    "\n",
    "import pandas as pd\n",
    "import numpy as np"
   ]
  },
  {
   "cell_type": "markdown",
   "metadata": {
    "heading_collapsed": true
   },
   "source": [
    "# Normal Distribution"
   ]
  },
  {
   "cell_type": "markdown",
   "metadata": {
    "hidden": true
   },
   "source": [
    "We'll find that the **normal distribution** or **normal curve** or **bell curve** (it has many names) is a very common distribution and it's very useful to us in statistics."
   ]
  },
  {
   "cell_type": "markdown",
   "metadata": {
    "hidden": true
   },
   "source": [
    "![](images/normal_curve_animation.gif)"
   ]
  },
  {
   "cell_type": "markdown",
   "metadata": {
    "heading_collapsed": true,
    "hidden": true
   },
   "source": [
    "## Why a Normal Distribution?"
   ]
  },
  {
   "cell_type": "markdown",
   "metadata": {
    "hidden": true
   },
   "source": [
    "Turns out the normal distribution describes many phenomena. Think of anything that has a typical range:\n",
    "\n",
    "- human body temperatures\n",
    "- sizes of elephants\n",
    "- sizes of stars\n",
    "- populations of cities\n",
    "- IQ\n",
    "- heart rate"
   ]
  },
  {
   "cell_type": "markdown",
   "metadata": {
    "hidden": true
   },
   "source": [
    "Among human beings, 98.6 degrees Fahrenheit is an _average_ body temperature. Many folks' temperatures won't measure _exactly_ 98.6 degrees, but most measurements will be _close_. It is much more common to have a body temperature close to 98.6 (whether slightly more or slightly less) than it is to have a body temperature far from 98.6 (whether significantly more or significantly less). This is a hallmark of a normally distributed variable."
   ]
  },
  {
   "cell_type": "code",
   "execution_count": 2,
   "metadata": {
    "hidden": true
   },
   "outputs": [
    {
     "data": {
      "image/png": "[encoded data removed]",
      "text/plain": [
       "<Figure size 640x480 with 1 Axes>"
      ]
     },
     "metadata": {},
     "output_type": "display_data"
    }
   ],
   "source": [
    "# Visualize it\n",
    "fig, ax = plt.subplots()\n",
    "\n",
    "mu = 0\n",
    "sigma = 1\n",
    "# This defines the points along the x-axis\n",
    "x = np.linspace(\n",
    "        stats.norm(mu,sigma).ppf(0.01), # Start plotting here\n",
    "        stats.norm(mu,sigma).ppf(0.99), # End plotting here\n",
    "        100                             # Number of points\n",
    ")\n",
    "# The values as at x given by the normal curve (with mu & sigma)\n",
    "y = stats.norm(mu,sigma).pdf(x)\n",
    "ax.plot(x, y,'r-');"
   ]
  },
  {
   "cell_type": "markdown",
   "metadata": {},
   "source": [
    "The Standard Normal Distribution, also known as a Gaussian distribution, is special not only because it shows up EVERYWHERE but also because it's symmetric (mean == median == mode)"
   ]
  },
  {
   "cell_type": "markdown",
   "metadata": {
    "hidden": true
   },
   "source": [
    "### Normal Curve\n",
    "\n",
    "If you're curious about how we can mathematically define a normal curve, we give this below. (Don't worry, you don't need to recall the mathematical definition).\n",
    "\n",
    "<details>\n",
    "\n",
    "$\\Large f(x) = \\frac{1}{\\sqrt{2\\pi\\sigma^2}}e^{\\frac{-(x - \\mu)^2}{2\\sigma^2}}$\n",
    "    \n",
    "This might look complicated at first, but it means that the we describe a normal curve with just **two parameters**: $\\sigma^2$ (the variance) & $\\mu$ (the mean). You may see the notation $N(\\mu, \\sigma^2)$ which emphasizes there are only two parameters to describe the distribution.\n",
    "</details>"
   ]
  },
  {
   "cell_type": "markdown",
   "metadata": {
    "heading_collapsed": true,
    "hidden": true
   },
   "source": [
    "## *Standard* Normal Distribution"
   ]
  },
  {
   "cell_type": "markdown",
   "metadata": {
    "hidden": true
   },
   "source": [
    "A special normal distribution called the **standard normal distribution** has a mean of 0 and variance of 1. This is also known as a **z distribution**."
   ]
  },
  {
   "cell_type": "markdown",
   "metadata": {
    "hidden": true
   },
   "source": [
    "Since we know that the shape of a normal distribution changes based on its mean and variance, we'll typically convert or **standardize** our normal distribution to the standard normal distribution."
   ]
  },
  {
   "cell_type": "markdown",
   "metadata": {
    "hidden": true
   },
   "source": [
    "We simply subtract the mean $\\mu$ from each value and then divide by the standard deviation $\\sigma$:\n",
    "\n",
    "$$\\frac{x - \\mu}{\\sigma}$$\n",
    "\n",
    "We call this process **standardization**."
   ]
  },
  {
   "cell_type": "markdown",
   "metadata": {
    "hidden": true
   },
   "source": [
    "![norm_to_z](images/norm_to_z.png)"
   ]
  },
  {
   "cell_type": "code",
   "execution_count": 3,
   "metadata": {
    "hidden": true,
    "scrolled": false
   },
   "outputs": [
    {
     "data": {
      "text/plain": [
       "5.091813052458301"
      ]
     },
     "execution_count": 3,
     "metadata": {},
     "output_type": "execute_result"
    }
   ],
   "source": [
    "# Let's transform the normal distribution centered on 5\n",
    "# with a standard deviation of 2 into a standard normal\n",
    "\n",
    "# Generating our data\n",
    "# stats.norm.rvs()\n",
    "normal_dist = np.random.normal(loc=5, scale=2, size=1000)\n",
    "\n",
    "np.mean(normal_dist)"
   ]
  },
  {
   "cell_type": "code",
   "execution_count": 4,
   "metadata": {},
   "outputs": [
    {
     "data": {
      "text/plain": [
       "array([ 8.27082244,  6.53195664,  7.04584923,  5.50116691,  5.54319453,\n",
       "        4.2434142 ,  6.68610607,  7.81059058,  6.33693186,  4.11429851,\n",
       "        6.5776787 ,  3.11387515,  8.33751286,  5.01920504,  5.22737143,\n",
       "        3.83962457,  8.39560132,  5.27405799,  3.68986906,  5.30245465,\n",
       "        7.12958879,  5.87627715,  7.86006867,  5.61965525, -0.04708174,\n",
       "        4.85260829,  4.14776628,  1.85636798,  2.70200071,  4.99889127,\n",
       "        4.84574578,  6.80859405,  7.54290827,  7.27221498,  8.44568694,\n",
       "        9.30850848,  6.83741611, -0.07192805,  5.6166271 ,  6.70573453,\n",
       "        7.86153236,  5.94701954, 10.04441149,  3.13648588,  3.00070429,\n",
       "        7.38784884,  5.32750762,  4.11552409,  5.49993239,  8.10812527,\n",
       "        5.14578913,  4.39484783,  4.92716484,  6.64924652,  2.45916919,\n",
       "        6.5549943 ,  6.71673098,  0.19527803,  3.44974442,  5.71468631,\n",
       "        4.84658912,  1.06783456,  6.58207327,  7.93884044,  5.46195889,\n",
       "        2.77475961,  1.88507994,  5.40324483,  6.57662488,  4.07565804,\n",
       "        2.54978318,  5.01147605,  7.84990698,  7.01502061,  7.29514558,\n",
       "        3.87049576,  2.7814414 ,  5.18552152,  3.72029617,  7.38827446,\n",
       "        7.9856261 ,  3.74598599,  5.48963969, 10.64744751,  4.32472342,\n",
       "        3.7183087 ,  5.25259007,  2.87003215,  6.70257524,  7.39857442,\n",
       "        4.33136137,  3.43714209,  5.16411297,  1.60586148,  4.80581183,\n",
       "        4.48739878,  6.26494509,  6.51624266,  2.34431009,  6.03761742,\n",
       "        5.41460723,  3.70901438,  3.76165805,  4.43524185,  5.53306694,\n",
       "        4.15407699,  6.82528849,  5.95659931,  3.63849883,  1.94153335,\n",
       "        2.46242005,  7.13997443,  2.85158272,  5.52036886,  6.52827903,\n",
       "        3.08400563,  4.45811033,  5.49893863,  4.4860457 ,  4.8033101 ,\n",
       "        5.77744008,  5.76943851,  4.65857882,  8.03769825,  0.29237333,\n",
       "        4.90171258,  4.72537912,  4.89404385,  8.00301261,  7.60362494,\n",
       "        2.24994782,  7.21637654,  7.05296536,  2.72375864,  4.02349111,\n",
       "        9.28671337,  2.08985694,  5.06380206,  3.8403786 ,  2.54376327,\n",
       "        4.3372033 ,  8.03545617,  5.23104625,  6.71911462,  4.51378311,\n",
       "        6.51621823,  6.79236019,  3.53854444,  9.57575268,  5.14082613,\n",
       "        1.96204449,  3.32777609,  3.32418367,  4.99793829,  1.5576723 ,\n",
       "        6.29803108,  4.20729673,  5.70781825,  8.82721278,  4.61319246,\n",
       "        5.65208326,  4.44999578,  5.53340933,  3.20939718,  5.88141702,\n",
       "        5.70385632,  4.77481537,  5.8689136 ,  2.0327619 ,  7.45129434,\n",
       "        5.5274424 ,  1.17872317,  5.79408833,  6.3213395 ,  6.81742978,\n",
       "        7.43739262,  2.86269599,  4.98543746,  8.14777687,  3.132136  ,\n",
       "        4.66213645,  5.83495082,  5.36337733,  4.27115888,  1.89458523,\n",
       "        3.48916057,  6.32555913,  3.25064116,  8.54857766,  7.19834589,\n",
       "        8.30995783,  6.1761114 ,  3.60961111,  3.03377377,  4.82168901,\n",
       "        5.68467466,  2.39359999,  4.88690486,  7.32201177,  5.480587  ,\n",
       "        8.84175242,  5.65965283,  5.58427667,  4.91695435,  6.66502928,\n",
       "        1.70442615,  5.44441445,  8.41340369,  6.53436429,  4.73711695,\n",
       "        3.59084304,  5.72354204,  4.5932108 ,  3.65289391,  6.19612403,\n",
       "        2.6102343 ,  3.26440423,  2.22178848,  4.48333974,  1.4880632 ,\n",
       "        4.53670469,  4.18492593,  4.70923105,  5.05108424,  7.27941109,\n",
       "        5.15434618,  4.96158121,  4.79594108,  5.72250538,  6.64795196,\n",
       "        3.37021077, 10.50175146,  6.6177007 ,  4.93688483,  4.47539861,\n",
       "        3.91058717,  2.77377687,  4.40886145,  3.15952327,  2.49452369,\n",
       "        4.76014712,  2.43875507,  5.13125268,  5.74536669,  5.53937159,\n",
       "        5.52058817,  4.04479999,  0.60875158,  2.40325223,  6.35758878,\n",
       "        4.3856881 ,  3.90718762,  3.84168987,  1.92624663,  3.26769962,\n",
       "        8.06759345,  2.90502971,  6.84467313,  3.81741007,  2.49366462,\n",
       "        8.54940651,  3.59760167,  3.80344275,  5.41422401,  4.94380926,\n",
       "        5.27257296,  5.10204649,  5.14903687,  3.51654465,  6.88495317,\n",
       "        2.56414265,  5.45681356,  3.43963649,  6.63394375,  4.48729372,\n",
       "        3.84477014,  5.03490307,  5.98161331,  1.60865633,  6.69492013,\n",
       "        3.13468898,  2.51398246,  5.53426422,  5.18803631,  2.37332373,\n",
       "        5.77438677,  0.46284883,  2.76700406,  5.23317252,  3.08028285,\n",
       "        3.15888047,  6.16624259,  3.83114124,  1.3355157 ,  0.60721402,\n",
       "        3.90025391,  7.22530618,  5.63802664,  5.26197681,  3.91834429,\n",
       "        3.79332031,  4.8025725 ,  5.02288898,  6.12478304,  2.70237549,\n",
       "        6.64196232,  6.60692859,  5.30368842,  1.18309849,  6.85317613,\n",
       "        2.58469473,  2.85724368,  5.8875004 ,  0.09755332,  6.96337894,\n",
       "        5.7767128 ,  6.83892263,  8.52233403,  4.31270771,  1.90497414,\n",
       "        8.96460478,  4.89748748,  4.55389881,  3.91931712,  4.03359155,\n",
       "        4.0333624 ,  4.61527414,  8.69453879,  5.94915232,  6.53970184,\n",
       "        8.09717452,  0.23292582,  0.85501647,  6.67430299,  7.78792092,\n",
       "        1.86380781,  3.08723779,  5.57621828,  4.04336649,  3.07518867,\n",
       "        3.05192185,  6.09983199,  5.74751739,  4.73874139,  8.82838665,\n",
       "        7.14392077,  3.28364471,  6.51314509,  5.46177245,  8.43264656,\n",
       "        3.51711421,  5.37029949,  6.57071097,  3.69429131,  1.05683683,\n",
       "        6.75263849,  5.15122979,  5.10323999,  3.62967124,  4.82818338,\n",
       "        6.95415915,  3.58644559,  8.505879  ,  5.08739619,  7.09632659,\n",
       "        2.6809765 ,  4.60200999,  1.82820825,  2.9011641 ,  1.26154618,\n",
       "        9.14916996,  3.79974021,  6.17448669,  5.19412717,  6.68946158,\n",
       "        7.00248784,  7.00449867,  4.06939689,  6.68744747,  6.32278849,\n",
       "        1.40901407,  4.61432665,  5.17072319,  9.90379667,  3.3426605 ,\n",
       "        5.23645739,  3.99356539,  6.54630447,  1.99594142,  5.90408695,\n",
       "        2.87630119,  6.13003747,  3.99300013,  5.30273567,  2.78036509,\n",
       "       -0.5682865 ,  2.90146611,  4.00346602,  7.08392676,  8.79704245,\n",
       "        9.39776018,  2.85550492,  4.33321013,  7.4080194 ,  5.03331349,\n",
       "       -0.01785402,  3.89122212,  4.42230976,  3.46548772,  0.66410163,\n",
       "        2.83104456,  3.35736172,  6.40037894,  2.5187782 ,  5.74778017,\n",
       "        3.64788415,  5.95666573,  5.79708811,  6.75184633,  8.52728035,\n",
       "        3.63950201,  5.18657429,  2.1162137 ,  3.90466758,  4.95956723,\n",
       "        5.92207578,  2.51447294,  8.62370136,  4.16425921,  4.98321892,\n",
       "        4.14510843,  3.6420752 ,  6.75462182,  6.08132266,  6.59352116,\n",
       "        2.65985745,  6.36060839,  7.97441002,  3.6424619 ,  4.50132406,\n",
       "        6.83275648,  7.1451745 ,  7.75750215,  0.64453388,  6.69610397,\n",
       "        4.08793775,  5.25669203,  2.89212117,  2.4136212 ,  1.43674162,\n",
       "        5.4323976 ,  3.45896419,  4.64553   ,  2.70836521,  6.55845902,\n",
       "        5.74329066,  4.09783964,  4.33169499,  6.77178972,  6.89586327,\n",
       "        6.42708872,  8.08562879,  4.39560883,  5.89449808,  0.7521185 ,\n",
       "        6.37780826,  5.00334619,  1.76363332,  5.12690479,  6.3598699 ,\n",
       "        4.86197826,  6.17412521,  4.49680705,  6.77959679,  3.04688398,\n",
       "        6.5189707 ,  8.18509464,  3.53010283,  5.40493307,  8.29766907,\n",
       "        5.87008976,  6.56206714,  7.97110109,  4.42092151,  8.17186632,\n",
       "        3.22414472,  3.82775227,  4.78308308,  5.24085887,  8.58258275,\n",
       "        5.3444285 ,  4.21478002,  3.60565684,  7.13382356,  6.08294268,\n",
       "        2.63818513,  6.92379288,  7.08176346,  5.72303181,  0.17016836,\n",
       "        2.18408023,  6.34265591,  6.13424276,  7.39069964,  6.98299898,\n",
       "        5.6486914 ,  5.81991739,  6.34524512,  6.52874058,  2.63767637,\n",
       "        3.70161506,  2.89692031,  6.34428975,  5.1431677 ,  8.60964414,\n",
       "        6.89828943,  4.61595032,  7.32927666,  1.69280171,  3.29066634,\n",
       "        5.92158894,  3.90531421,  7.28209124,  5.35430307,  2.62542415,\n",
       "        5.66415089,  3.7273195 ,  7.03940389,  6.81007177,  6.55172704,\n",
       "        7.75434509,  5.160064  ,  2.85869017,  6.08874834,  4.12702336,\n",
       "        7.00968499,  4.69656767,  4.33801125,  4.83852863,  7.03776142,\n",
       "        7.0203836 ,  7.48278348,  4.90693121,  5.19127658,  6.74514147,\n",
       "        2.33115065,  7.12003679,  1.78173458,  8.4390053 ,  7.66768686,\n",
       "        0.59643041,  5.51517639,  3.74484368,  3.44993266,  3.93531087,\n",
       "        6.65523532,  7.86010459,  3.17863617,  3.60167365,  5.14518092,\n",
       "        5.53602725,  4.57324317,  4.14747291,  4.52792622,  1.3734507 ,\n",
       "        7.48138135,  6.84941779,  5.15509432,  6.71244248,  7.7881976 ,\n",
       "        2.93247475,  4.63244489,  8.70982155,  4.23761589,  6.91829474,\n",
       "        3.79358565,  6.54445051,  3.67771572,  4.77097881,  6.53199606,\n",
       "        7.8289965 ,  6.0618612 ,  7.64011431,  6.09720192,  4.26218594,\n",
       "        4.89043046,  4.08284353,  1.96838235,  3.80646267,  4.36858049,\n",
       "        5.08406577,  6.77505198,  8.4670713 ,  5.69048329,  5.62247708,\n",
       "        5.04430201,  4.14218975,  4.82088083,  4.80800099,  8.19588856,\n",
       "        5.79771667,  1.42735842,  4.55470971,  3.92669677,  6.88122191,\n",
       "        6.5252272 ,  3.65299471,  7.65623   ,  6.12333404,  4.56202661,\n",
       "        3.87375597,  6.78986727,  6.419199  ,  9.51234602,  7.52610993,\n",
       "        5.7172915 ,  5.11869426,  7.68155187,  4.83304341,  2.14731171,\n",
       "        4.05070138,  7.27542033,  4.55055177,  7.08736442,  3.78148243,\n",
       "        4.11674346,  3.57084424,  6.2953372 ,  4.21817258,  7.75538944,\n",
       "        6.00725713,  7.95142977,  6.0959627 ,  6.38781449,  4.64267354,\n",
       "        4.60788818,  5.55925488,  4.33265446,  5.76415774,  3.5886444 ,\n",
       "        2.02299084,  6.39517952,  1.76988016,  3.85003321,  5.89499583,\n",
       "        5.94671907,  4.90952359,  3.06404236,  6.30434091,  2.55518276,\n",
       "        4.20862196,  7.07878559,  0.27261465,  4.42383127,  5.45408392,\n",
       "        3.85845029,  5.45389713,  5.38606263,  2.32782186,  6.42174171,\n",
       "        3.91154406,  7.8966972 ,  2.63558542,  1.15682239,  2.00609365,\n",
       "        2.88437171,  4.90799301,  1.9232278 ,  2.70555965,  5.92418188,\n",
       "        5.45183345,  4.16521576,  7.44517227,  2.53532994,  7.29799693,\n",
       "        5.267817  ,  5.00677977,  5.78830057,  5.88002709,  4.93963355,\n",
       "        6.21432625,  6.91058576,  4.19071629,  7.66830677,  4.48234131,\n",
       "        3.60547539,  4.71914339,  5.84721896,  4.84223309,  2.17320816,\n",
       "        5.54351206,  6.15076833,  3.87879512,  4.39459624,  4.31979564,\n",
       "        4.26345185,  6.72105541,  3.50843152,  6.06428291,  5.49580876,\n",
       "        6.13118744,  8.27380062,  5.24889453,  7.96018135,  4.34584471,\n",
       "        5.60997557,  8.52509406,  8.8812083 ,  3.90052382,  4.2361731 ,\n",
       "        4.98921999,  5.76016915,  5.27879139,  4.14422029,  3.93134636,\n",
       "        5.12167484,  2.1970002 ,  6.47763759,  3.75233518,  6.88909723,\n",
       "        6.97773037,  3.25580931,  6.03124561,  6.03407222,  6.56406839,\n",
       "        6.7110382 ,  5.53732295,  6.59710131,  9.15107223,  3.79776245,\n",
       "        8.47828454,  1.36681527,  7.01715092,  6.66494138,  3.99725542,\n",
       "        3.54327325,  6.27766375,  4.39556643,  4.88056544,  7.75747691,\n",
       "        5.52563731,  7.39895471,  6.46556175,  4.89748698,  6.04823543,\n",
       "        5.71660222,  6.09625522,  5.89675852,  2.40004439,  2.82175204,\n",
       "        5.45192321,  6.7921457 ,  2.89859139,  5.6874109 ,  7.86479719,\n",
       "        6.09422942,  2.89871989,  7.23467823,  9.13472582,  2.27356045,\n",
       "        3.28391131,  5.96172723,  6.07548022,  1.08233472,  5.65338222,\n",
       "        4.94320877,  3.71656485,  6.82350002, -2.03320549,  4.13092131,\n",
       "        2.66056146,  5.92585254,  3.7713728 ,  9.25775914,  5.47868457,\n",
       "        5.10087721,  5.29614981,  5.59981527,  4.96251688,  3.06009024,\n",
       "        5.49442443,  3.95873311,  3.60185782,  3.73562335,  6.42563889,\n",
       "        5.72877283,  5.98654349,  3.53355275,  1.10501255,  2.57496274,\n",
       "        7.80602454,  3.10331671,  8.48013713,  2.35873188,  4.31488645,\n",
       "        3.5490313 ,  4.13571751,  6.37433766,  3.82790227,  8.31113091,\n",
       "        2.70321936,  6.72439666,  5.75883093,  3.67613902,  0.66055821,\n",
       "        6.07118972,  3.47689232,  6.21051777,  5.65755502,  4.08232439,\n",
       "        6.95455867,  7.72554284,  6.98392577,  7.4904813 ,  2.77529083,\n",
       "        4.15779936,  3.75975015,  8.50736452,  1.89934235,  5.96119065,\n",
       "        2.1322538 ,  8.70506826,  7.33270672,  2.12021837,  6.37757078,\n",
       "        6.06507432,  4.36695643,  8.07741162,  5.75079568,  8.49979736,\n",
       "        7.23721428,  4.09428766,  1.47331536,  6.91931119,  3.6292987 ,\n",
       "        2.09904003,  2.42850251,  7.74585718,  5.96085292,  4.61313154,\n",
       "        3.70718091,  5.57273895,  4.37967034,  5.64047203,  4.24053383,\n",
       "        5.21908989,  4.97023672,  6.19984101,  5.83909635,  6.62522479,\n",
       "        5.1690072 ,  5.40535055,  4.90180966,  4.65578772,  9.69052765,\n",
       "        6.12984823,  4.5588376 ,  4.23436164,  6.50555645,  5.06887768,\n",
       "        4.29222717,  6.68364566,  1.09413381,  3.61144321,  3.30112279,\n",
       "        3.71933996,  5.51571791,  6.6383385 ,  6.55450977,  7.25931178,\n",
       "        3.89232776,  5.18440285,  5.47350799,  2.05352701,  3.59873453,\n",
       "        7.23633322,  4.6605893 ,  5.6158618 ,  4.30452329,  6.61506717,\n",
       "        6.43350463,  4.06009432,  2.52694158,  5.85837938,  6.73526298,\n",
       "        4.12308189,  8.35199406,  3.37905731,  5.11282829,  3.26600434,\n",
       "        5.03115694,  7.3267939 ,  5.31188656,  8.06169198,  0.21040407,\n",
       "        7.04667524,  1.12306692,  9.72585736,  6.25671048,  3.65744572,\n",
       "        4.02820652,  5.20008357,  5.63356621,  5.4187935 ,  2.61996723,\n",
       "        6.07600075,  7.32942494,  8.00948486,  8.41596806,  8.15895688,\n",
       "        5.5314547 ,  6.62811514,  5.35717455,  4.86573257,  6.61155944,\n",
       "        6.18120821,  5.3338024 ,  7.88333327,  5.4792991 ,  2.96809652,\n",
       "        5.70190492,  4.43409618,  7.89655061,  6.24274945,  1.240291  ,\n",
       "        5.50340547,  2.27318848,  7.19221744,  7.06102419,  6.41232584,\n",
       "        6.74840829,  1.41933787,  6.1350012 ,  6.99398118,  6.43368209,\n",
       "        7.9641848 ,  5.10355361,  5.14922018,  6.65303044, 10.03080422,\n",
       "        3.52772081,  4.18829045,  7.76821931,  2.37762666,  3.51627449,\n",
       "        3.00800837,  3.89263293,  8.01022165,  4.95168665,  6.07255079,\n",
       "        3.77598781,  6.6134013 ,  3.9991738 ,  4.86135471,  3.63873096,\n",
       "        4.10228911,  5.61530109,  5.75064872,  8.26093149,  3.45117635,\n",
       "        8.46473867,  6.28868564,  6.09929038,  8.46519256,  2.42438222,\n",
       "        4.21449299,  4.00715897,  6.37589316,  6.40300891,  7.72295834,\n",
       "        5.73008692,  2.30618923,  1.52086234,  6.28338975,  2.863351  ,\n",
       "        1.5039425 ,  7.833815  ,  2.48747244,  4.39005772,  2.9723746 ,\n",
       "        6.61065234,  6.51411042,  5.04216621,  3.69190951,  7.09499455,\n",
       "        6.64000742,  7.16160082,  3.20504517,  7.62986511,  4.00641872,\n",
       "        5.72098204,  4.69723101,  3.05365124,  2.57279094,  6.79324061,\n",
       "        2.12601314,  5.12601804,  5.26062286,  2.36729541,  7.25764521])"
      ]
     },
     "execution_count": 4,
     "metadata": {},
     "output_type": "execute_result"
    }
   ],
   "source": [
    "normal_dist"
   ]
  },
  {
   "cell_type": "code",
   "execution_count": 5,
   "metadata": {},
   "outputs": [
    {
     "data": {
      "text/plain": [
       "1.5987211554602254e-16"
      ]
     },
     "execution_count": 5,
     "metadata": {},
     "output_type": "execute_result"
    }
   ],
   "source": [
    "# Here, let's standardize by hand\n",
    "# (x - mean) / std\n",
    "z_dist = [(x - np.mean(normal_dist)) / np.std(normal_dist)\n",
    "          for x in normal_dist]\n",
    "\n",
    "np.mean(z_dist)"
   ]
  },
  {
   "cell_type": "code",
   "execution_count": 6,
   "metadata": {},
   "outputs": [
    {
     "data": {
      "image/png": "[encoded data removed]",
      "text/plain": [
       "<Figure size 1000x600 with 2 Axes>"
      ]
     },
     "metadata": {},
     "output_type": "display_data"
    }
   ],
   "source": [
    "# Visualize it\n",
    "fig, (ax0, ax1) = plt.subplots(nrows=2, sharex=True, figsize=(10, 6))\n",
    "\n",
    "sns.histplot(data=normal_dist, ax=ax0)\n",
    "ax0.set_title('Before Standardization')\n",
    "\n",
    "sns.histplot(data=z_dist, ax=ax1)\n",
    "ax1.set_title('After Standardization')\n",
    "\n",
    "plt.tight_layout()"
   ]
  },
  {
   "cell_type": "markdown",
   "metadata": {
    "hidden": true
   },
   "source": [
    "Talking about the **standard normal distribution** can be very convenient since the values correspond to the number of standard deviations above or below the mean."
   ]
  },
  {
   "cell_type": "markdown",
   "metadata": {
    "heading_collapsed": true,
    "hidden": true
   },
   "source": [
    "## $z$-Score"
   ]
  },
  {
   "cell_type": "markdown",
   "metadata": {
    "hidden": true
   },
   "source": [
    "A **$z$-score** for a specific data point $x$ (in a normal distribution) is simply the distance to the mean in the units of standard deviations\n",
    "\n",
    "$$\\large z = \\frac{x - \\mu}{\\sigma}$$\n",
    "\n",
    "By calculating the z-score of an individual point, we can see how unlikely a value is."
   ]
  },
  {
   "cell_type": "markdown",
   "metadata": {
    "hidden": true
   },
   "source": [
    "Here's a little site with some [interactive Gaussians](https://www.intmath.com/counting-probability/normal-distribution-graph-interactive.php)"
   ]
  },
  {
   "cell_type": "markdown",
   "metadata": {
    "heading_collapsed": true,
    "hidden": true
   },
   "source": [
    "#### 🧠 Knowledge Check"
   ]
  },
  {
   "cell_type": "markdown",
   "metadata": {
    "hidden": true
   },
   "source": [
    "What would the $z$-score be for the middle of a normal curve?\n",
    "\n",
    "- 0\n"
   ]
  },
  {
   "cell_type": "markdown",
   "metadata": {
    "heading_collapsed": true,
    "hidden": true
   },
   "source": [
    "### The Empirical Rule"
   ]
  },
  {
   "cell_type": "markdown",
   "metadata": {
    "hidden": true
   },
   "source": [
    "> Rule states that $68\\%$ of the values of a normal distribution of data lie within 1 standard deviation ($\\sigma$) of the mean, $95\\%$ within $2\\sigma$, and $99.7\\%$ within $3\\sigma$.  \n",
    "\n",
    "This makes it really quick to look at a normal distribution and understand where values tend to lie"
   ]
  },
  {
   "cell_type": "markdown",
   "metadata": {
    "hidden": true
   },
   "source": [
    "<img src='https://github.com/learn-co-students/dsc-0-09-12-gaussian-distributions-online-ds-ft-031119/blob/master/normalsd.jpg?raw=true' width=700/>"
   ]
  },
  {
   "cell_type": "markdown",
   "metadata": {
    "heading_collapsed": true,
    "hidden": true
   },
   "source": [
    "#### 🧠 Knowledge Check"
   ]
  },
  {
   "cell_type": "markdown",
   "metadata": {
    "hidden": true
   },
   "source": [
    "About what percentage of the values would be between a $z$-score of $-1$ and a $z$-score of $2$?\n",
    "\n",
    "<details>\n",
    "    <summary>Answer</summary>\n",
    "    About $82\\%$\n",
    "</details>"
   ]
  },
  {
   "cell_type": "code",
   "execution_count": 7,
   "metadata": {},
   "outputs": [
    {
     "data": {
      "text/plain": [
       "81.5"
      ]
     },
     "execution_count": 7,
     "metadata": {},
     "output_type": "execute_result"
    }
   ],
   "source": [
    "# can use empirical rule here\n",
    "# or use CDF on standard normal to answer this\n",
    "\n",
    "# -1 stddev\n",
    "neg_1_stddev = 34\n",
    "\n",
    "one_stddev = 34\n",
    "\n",
    "two_sttdev = 13.5\n",
    "\n",
    "# percentage that values would be between z-score\n",
    "# of -1 and 2\n",
    "neg_1_stddev + one_stddev + two_sttdev"
   ]
  },
  {
   "cell_type": "markdown",
   "metadata": {
    "heading_collapsed": true
   },
   "source": [
    "# Exercises"
   ]
  },
  {
   "cell_type": "markdown",
   "metadata": {},
   "source": [
    "The distribution of people's heights in the United States has a **mean of 66 inches** and a **standard deviation of 4 inches**. "
   ]
  },
  {
   "cell_type": "markdown",
   "metadata": {
    "heading_collapsed": true,
    "hidden": true
   },
   "source": [
    "## Height $z$-score"
   ]
  },
  {
   "cell_type": "markdown",
   "metadata": {
    "hidden": true
   },
   "source": [
    "Calculate the z-score of a height of **76 inches.**"
   ]
  },
  {
   "cell_type": "code",
   "execution_count": 9,
   "metadata": {
    "hidden": true
   },
   "outputs": [
    {
     "data": {
      "text/plain": [
       "2.5"
      ]
     },
     "execution_count": 9,
     "metadata": {},
     "output_type": "execute_result"
    }
   ],
   "source": [
    "# Your code here\n",
    "mean = 66\n",
    "stddev = 4\n",
    "height = 76\n",
    "\n",
    "(height - mean) / stddev"
   ]
  },
  {
   "cell_type": "markdown",
   "metadata": {},
   "source": [
    "<details>\n",
    "    <summary>Answer</summary>\n",
    "    <code># z-score: z = (x - mu) / std\n",
    "(76 - 66) / 4</code>\n",
    "</details>"
   ]
  },
  {
   "cell_type": "markdown",
   "metadata": {},
   "source": [
    "#### Describe the z-score - what does it tell us?\n"
   ]
  },
  {
   "cell_type": "code",
   "execution_count": 10,
   "metadata": {},
   "outputs": [
    {
     "data": {
      "text/plain": [
       "0.006209665325776159"
      ]
     },
     "execution_count": 10,
     "metadata": {},
     "output_type": "execute_result"
    }
   ],
   "source": [
    "# use survival function\n",
    "# using standard normal\n",
    "\n",
    "1 - stats.norm(loc=0, scale=1).cdf(2.5)"
   ]
  },
  {
   "cell_type": "code",
   "execution_count": 12,
   "metadata": {},
   "outputs": [
    {
     "data": {
      "text/plain": [
       "0.006209665325776132"
      ]
     },
     "execution_count": 12,
     "metadata": {},
     "output_type": "execute_result"
    }
   ],
   "source": [
    "# using actual distribution / values\n",
    "stats.norm(loc=66, scale=4).sf(76)"
   ]
  },
  {
   "cell_type": "code",
   "execution_count": 11,
   "metadata": {},
   "outputs": [
    {
     "data": {
      "text/plain": [
       "0.006209665325776132"
      ]
     },
     "execution_count": 11,
     "metadata": {},
     "output_type": "execute_result"
    }
   ],
   "source": [
    "# OR we standardize the data and use that to calculate thes same number\n",
    "\n",
    "stats.norm.sf(2.5, loc=0, scale=1)"
   ]
  },
  {
   "cell_type": "markdown",
   "metadata": {
    "heading_collapsed": true,
    "hidden": true
   },
   "source": [
    "## Height Empirical Rule"
   ]
  },
  {
   "cell_type": "markdown",
   "metadata": {
    "hidden": true
   },
   "source": [
    "Determine the proportion of those whose height is between **62 inches and 74 inches**."
   ]
  },
  {
   "cell_type": "code",
   "execution_count": null,
   "metadata": {},
   "outputs": [],
   "source": [
    "# Your code here\n"
   ]
  },
  {
   "cell_type": "markdown",
   "metadata": {},
   "source": [
    "<details>\n",
    "    <summary>Answer 1</summary>\n",
    "<code># z-scores for 62\" and 74\":\n",
    "z_62 = (62 - 66) / 4\n",
    "z_74 = (74 - 66) / 4\n",
    "z_62, z_74</code>\n",
    "    </details>"
   ]
  },
  {
   "cell_type": "markdown",
   "metadata": {},
   "source": [
    "<details>\n",
    "    <summary>Answer 2</summary>\n",
    "    <code>heights = stats.norm(loc=66, scale=4)\n",
    "heights.cdf(74) - heights.cdf(62)</code>\n",
    "    </details>"
   ]
  },
  {
   "cell_type": "markdown",
   "metadata": {
    "heading_collapsed": true,
    "hidden": true
   },
   "source": [
    "## Height Percentile"
   ]
  },
  {
   "cell_type": "markdown",
   "metadata": {
    "hidden": true
   },
   "source": [
    "Assuming the above distribution of people's heights in the United States is approximately normal, what percent of people have a height **less than 75 inches**?"
   ]
  },
  {
   "cell_type": "code",
   "execution_count": 13,
   "metadata": {},
   "outputs": [
    {
     "data": {
      "text/plain": [
       "0.9877755273449553"
      ]
     },
     "execution_count": 13,
     "metadata": {},
     "output_type": "execute_result"
    }
   ],
   "source": [
    "# Your code here\n",
    "\n",
    "# CDF will give the percentage of people with less than or equal to the value\n",
    "\n",
    "stats.norm(loc=66, scale=4).cdf(75)"
   ]
  },
  {
   "cell_type": "code",
   "execution_count": 15,
   "metadata": {},
   "outputs": [
    {
     "data": {
      "text/plain": [
       "0.9877755273449553"
      ]
     },
     "execution_count": 15,
     "metadata": {},
     "output_type": "execute_result"
    }
   ],
   "source": [
    "# survival function gives you\n",
    "# survival function is exclusive of cdf\n",
    "# so you can do (1 - survival function) to also get the\n",
    "# percent of people with a height less than 75 inches\n",
    "# survival function gives the probability that a value will survive\n",
    "# past a certain time\n",
    "\n",
    "1 - stats.norm(loc=66, scale=4).sf(75)"
   ]
  },
  {
   "cell_type": "markdown",
   "metadata": {},
   "source": [
    "<details>\n",
    "    <summary>Answer</summary>\n",
    "    <code>heights.cdf(75)</code>\n",
    "    </details>"
   ]
  },
  {
   "cell_type": "markdown",
   "metadata": {
    "heading_collapsed": true,
    "hidden": true
   },
   "source": [
    "## Bonus"
   ]
  },
  {
   "cell_type": "markdown",
   "metadata": {
    "hidden": true
   },
   "source": [
    "Assuming the above distribution of people's heights in the United States is approximately normal, what range of heights contain the **middle 50% of values**, also known as the _interquartile range_ (IQR)?"
   ]
  },
  {
   "cell_type": "code",
   "execution_count": 17,
   "metadata": {},
   "outputs": [],
   "source": [
    "# z_dist\n",
    "z_dist = stats.norm(loc=0, scale=1)"
   ]
  },
  {
   "cell_type": "code",
   "execution_count": 16,
   "metadata": {
    "scrolled": true
   },
   "outputs": [],
   "source": [
    "# Code\n",
    "n_dist = stats.norm(loc=66, scale=4)"
   ]
  },
  {
   "cell_type": "code",
   "execution_count": 18,
   "metadata": {},
   "outputs": [
    {
     "data": {
      "text/plain": [
       "(63.30204099921567, 68.69795900078432)"
      ]
     },
     "execution_count": 18,
     "metadata": {},
     "output_type": "execute_result"
    }
   ],
   "source": [
    "# this gives interquartile range\n",
    "\n",
    "n_dist.ppf(.25), n_dist.ppf(.75)"
   ]
  },
  {
   "cell_type": "code",
   "execution_count": 20,
   "metadata": {},
   "outputs": [
    {
     "data": {
      "text/plain": [
       "0.5003242350564465"
      ]
     },
     "execution_count": 20,
     "metadata": {},
     "output_type": "execute_result"
    }
   ],
   "source": [
    "# you can double check that this is the 50 percentile\n",
    "# by subtracting the value of ppf(.75) and ppf(.25)\n",
    "\n",
    "n_dist.cdf(68.7) - n_dist.cdf(63.3)"
   ]
  },
  {
   "cell_type": "markdown",
   "metadata": {},
   "source": [
    "<details>\n",
    "    <summary>Answer</summary>\n",
    "    <code>heights.ppf(0.25), heights.ppf(0.75)</code>\n",
    "    </details>"
   ]
  },
  {
   "cell_type": "markdown",
   "metadata": {},
   "source": [
    "## Time for Pandas!\n",
    "\n",
    "Let's use the same Seattle City Employee data from the first Distributions lecture to check out what scaling looks like in practice!\n",
    "\n",
    "Data source: https://data.seattle.gov/City-Business/City-of-Seattle-Wage-Data/2khk-5ukd"
   ]
  },
  {
   "cell_type": "code",
   "execution_count": 21,
   "metadata": {},
   "outputs": [],
   "source": [
    "# Read in the data\n",
    "df = pd.read_csv('data/City_of_Seattle_Wage_Data_031422.csv')"
   ]
  },
  {
   "cell_type": "code",
   "execution_count": 22,
   "metadata": {},
   "outputs": [
    {
     "data": {
      "text/html": [
       "<div>\n",
       "<style scoped>\n",
       "    .dataframe tbody tr th:only-of-type {\n",
       "        vertical-align: middle;\n",
       "    }\n",
       "\n",
       "    .dataframe tbody tr th {\n",
       "        vertical-align: top;\n",
       "    }\n",
       "\n",
       "    .dataframe thead th {\n",
       "        text-align: right;\n",
       "    }\n",
       "</style>\n",
       "<table border=\"1\" class=\"dataframe\">\n",
       "  <thead>\n",
       "    <tr style=\"text-align: right;\">\n",
       "      <th></th>\n",
       "      <th>Department</th>\n",
       "      <th>Last Name</th>\n",
       "      <th>First Name</th>\n",
       "      <th>Job Title</th>\n",
       "      <th>Hourly Rate</th>\n",
       "    </tr>\n",
       "  </thead>\n",
       "  <tbody>\n",
       "    <tr>\n",
       "      <th>0</th>\n",
       "      <td>Seattle Public Utilities</td>\n",
       "      <td>Batchelor</td>\n",
       "      <td>Craig</td>\n",
       "      <td>Civil Engrng Spec,Sr</td>\n",
       "      <td>53.740</td>\n",
       "    </tr>\n",
       "    <tr>\n",
       "      <th>1</th>\n",
       "      <td>Finance &amp; Admin Services</td>\n",
       "      <td>Altice</td>\n",
       "      <td>Jeffrey</td>\n",
       "      <td>Auto Mechanic</td>\n",
       "      <td>39.780</td>\n",
       "    </tr>\n",
       "    <tr>\n",
       "      <th>2</th>\n",
       "      <td>Finance &amp; Admin Services</td>\n",
       "      <td>Montes</td>\n",
       "      <td>Valeria</td>\n",
       "      <td>Cust Svc Rep</td>\n",
       "      <td>29.450</td>\n",
       "    </tr>\n",
       "    <tr>\n",
       "      <th>3</th>\n",
       "      <td>Fire Department</td>\n",
       "      <td>Kuklok</td>\n",
       "      <td>Rebecca</td>\n",
       "      <td>Cust Svc Rep *</td>\n",
       "      <td>29.450</td>\n",
       "    </tr>\n",
       "    <tr>\n",
       "      <th>4</th>\n",
       "      <td>Planning &amp; Comm Development</td>\n",
       "      <td>Quirindongo</td>\n",
       "      <td>Rico</td>\n",
       "      <td>Executive3</td>\n",
       "      <td>97.164</td>\n",
       "    </tr>\n",
       "  </tbody>\n",
       "</table>\n",
       "</div>"
      ],
      "text/plain": [
       "                    Department    Last Name First Name             Job Title  \\\n",
       "0     Seattle Public Utilities    Batchelor      Craig  Civil Engrng Spec,Sr   \n",
       "1     Finance & Admin Services       Altice    Jeffrey         Auto Mechanic   \n",
       "2     Finance & Admin Services       Montes    Valeria          Cust Svc Rep   \n",
       "3              Fire Department       Kuklok    Rebecca        Cust Svc Rep *   \n",
       "4  Planning & Comm Development  Quirindongo       Rico            Executive3   \n",
       "\n",
       "   Hourly Rate   \n",
       "0        53.740  \n",
       "1        39.780  \n",
       "2        29.450  \n",
       "3        29.450  \n",
       "4        97.164  "
      ]
     },
     "execution_count": 22,
     "metadata": {},
     "output_type": "execute_result"
    }
   ],
   "source": [
    "# Check it\n",
    "df.head()"
   ]
  },
  {
   "cell_type": "code",
   "execution_count": 23,
   "metadata": {},
   "outputs": [
    {
     "name": "stdout",
     "output_type": "stream",
     "text": [
      "<class 'pandas.core.frame.DataFrame'>\n",
      "RangeIndex: 11739 entries, 0 to 11738\n",
      "Data columns (total 5 columns):\n",
      " #   Column        Non-Null Count  Dtype  \n",
      "---  ------        --------------  -----  \n",
      " 0   Department    11739 non-null  object \n",
      " 1   Last Name     11739 non-null  object \n",
      " 2   First Name    11739 non-null  object \n",
      " 3   Job Title     11739 non-null  object \n",
      " 4   Hourly Rate   11739 non-null  float64\n",
      "dtypes: float64(1), object(4)\n",
      "memory usage: 458.7+ KB\n"
     ]
    }
   ],
   "source": [
    "df.info()"
   ]
  },
  {
   "cell_type": "code",
   "execution_count": 24,
   "metadata": {},
   "outputs": [],
   "source": [
    "# Rename the columns\n",
    "df = df.rename(columns = lambda x: x.replace(\" \", \"\"))"
   ]
  },
  {
   "cell_type": "code",
   "execution_count": 25,
   "metadata": {},
   "outputs": [
    {
     "data": {
      "text/html": [
       "<div>\n",
       "<style scoped>\n",
       "    .dataframe tbody tr th:only-of-type {\n",
       "        vertical-align: middle;\n",
       "    }\n",
       "\n",
       "    .dataframe tbody tr th {\n",
       "        vertical-align: top;\n",
       "    }\n",
       "\n",
       "    .dataframe thead th {\n",
       "        text-align: right;\n",
       "    }\n",
       "</style>\n",
       "<table border=\"1\" class=\"dataframe\">\n",
       "  <thead>\n",
       "    <tr style=\"text-align: right;\">\n",
       "      <th></th>\n",
       "      <th>HourlyRate</th>\n",
       "    </tr>\n",
       "  </thead>\n",
       "  <tbody>\n",
       "    <tr>\n",
       "      <th>count</th>\n",
       "      <td>11739.000000</td>\n",
       "    </tr>\n",
       "    <tr>\n",
       "      <th>mean</th>\n",
       "      <td>47.817331</td>\n",
       "    </tr>\n",
       "    <tr>\n",
       "      <th>std</th>\n",
       "      <td>16.722128</td>\n",
       "    </tr>\n",
       "    <tr>\n",
       "      <th>min</th>\n",
       "      <td>5.530000</td>\n",
       "    </tr>\n",
       "    <tr>\n",
       "      <th>25%</th>\n",
       "      <td>35.400000</td>\n",
       "    </tr>\n",
       "    <tr>\n",
       "      <th>50%</th>\n",
       "      <td>47.340000</td>\n",
       "    </tr>\n",
       "    <tr>\n",
       "      <th>75%</th>\n",
       "      <td>59.550000</td>\n",
       "    </tr>\n",
       "    <tr>\n",
       "      <th>max</th>\n",
       "      <td>187.767000</td>\n",
       "    </tr>\n",
       "  </tbody>\n",
       "</table>\n",
       "</div>"
      ],
      "text/plain": [
       "         HourlyRate\n",
       "count  11739.000000\n",
       "mean      47.817331\n",
       "std       16.722128\n",
       "min        5.530000\n",
       "25%       35.400000\n",
       "50%       47.340000\n",
       "75%       59.550000\n",
       "max      187.767000"
      ]
     },
     "execution_count": 25,
     "metadata": {},
     "output_type": "execute_result"
    }
   ],
   "source": [
    "# Describe the numeric column\n",
    "df.describe()"
   ]
  },
  {
   "cell_type": "code",
   "execution_count": null,
   "metadata": {},
   "outputs": [],
   "source": [
    "\"\"\"\n",
    "We have some extreme values (can see from the max)\n",
    "\"\"\""
   ]
  },
  {
   "cell_type": "code",
   "execution_count": 26,
   "metadata": {},
   "outputs": [
    {
     "data": {
      "image/png": "[encoded data removed]",
      "text/plain": [
       "<Figure size 640x480 with 1 Axes>"
      ]
     },
     "metadata": {},
     "output_type": "display_data"
    }
   ],
   "source": [
    "# Plot the hourly rate column\n",
    "sns.kdeplot(df['HourlyRate']);"
   ]
  },
  {
   "cell_type": "code",
   "execution_count": null,
   "metadata": {},
   "outputs": [],
   "source": [
    "# can see salary bands (3 peaks)\n",
    "# we have extreme values (we are right skewed)\n",
    "# -- pulling the mean to the right\n",
    "# kind of normal but not perfectly normal outside of the outliers\n",
    "# we will treat this like it's normally distributed"
   ]
  },
  {
   "cell_type": "markdown",
   "metadata": {},
   "source": [
    "How can we describe this distribution?\n",
    "\n",
    "- Extreme high postive values, outliers\n",
    "- Bimodal or maybe even trimodal\n",
    "- Not perfectly normal, but it is kinda normal\n"
   ]
  },
  {
   "cell_type": "markdown",
   "metadata": {},
   "source": [
    "### Using Z-Scores"
   ]
  },
  {
   "cell_type": "code",
   "execution_count": 27,
   "metadata": {
    "scrolled": true
   },
   "outputs": [
    {
     "data": {
      "text/html": [
       "<div>\n",
       "<style scoped>\n",
       "    .dataframe tbody tr th:only-of-type {\n",
       "        vertical-align: middle;\n",
       "    }\n",
       "\n",
       "    .dataframe tbody tr th {\n",
       "        vertical-align: top;\n",
       "    }\n",
       "\n",
       "    .dataframe thead th {\n",
       "        text-align: right;\n",
       "    }\n",
       "</style>\n",
       "<table border=\"1\" class=\"dataframe\">\n",
       "  <thead>\n",
       "    <tr style=\"text-align: right;\">\n",
       "      <th></th>\n",
       "      <th>Department</th>\n",
       "      <th>LastName</th>\n",
       "      <th>FirstName</th>\n",
       "      <th>JobTitle</th>\n",
       "      <th>HourlyRate</th>\n",
       "    </tr>\n",
       "  </thead>\n",
       "  <tbody>\n",
       "    <tr>\n",
       "      <th>6663</th>\n",
       "      <td>Finance &amp; Admin Services</td>\n",
       "      <td>Ashbrook</td>\n",
       "      <td>Michael</td>\n",
       "      <td>Executive2</td>\n",
       "      <td>83.551</td>\n",
       "    </tr>\n",
       "  </tbody>\n",
       "</table>\n",
       "</div>"
      ],
      "text/plain": [
       "                    Department  LastName FirstName    JobTitle  HourlyRate\n",
       "6663  Finance & Admin Services  Ashbrook   Michael  Executive2      83.551"
      ]
     },
     "execution_count": 27,
     "metadata": {},
     "output_type": "execute_result"
    }
   ],
   "source": [
    "# Grab a sample row\n",
    "sample_row = df.sample(1)\n",
    "sample_row"
   ]
  },
  {
   "cell_type": "code",
   "execution_count": 28,
   "metadata": {},
   "outputs": [
    {
     "data": {
      "text/plain": [
       "2.136909181432612"
      ]
     },
     "execution_count": 28,
     "metadata": {},
     "output_type": "execute_result"
    }
   ],
   "source": [
    "# Calculate the z-score for that row's HourlyRate\n",
    "(sample_row['HourlyRate'].values[0] - df['HourlyRate'].mean()) / df['HourlyRate'].std()"
   ]
  },
  {
   "cell_type": "code",
   "execution_count": 29,
   "metadata": {
    "scrolled": true
   },
   "outputs": [
    {
     "data": {
      "text/plain": [
       "16.722127999840367"
      ]
     },
     "execution_count": 29,
     "metadata": {},
     "output_type": "execute_result"
    }
   ],
   "source": [
    "# this means that this sample's hourly rate is\n",
    "# 2 stddev away from the mean\n",
    "# every \"step\" sttdev is $16\n",
    "df['HourlyRate'].std()"
   ]
  },
  {
   "cell_type": "code",
   "execution_count": 31,
   "metadata": {},
   "outputs": [
    {
     "data": {
      "text/plain": [
       "35.73366885595024"
      ]
     },
     "execution_count": 31,
     "metadata": {},
     "output_type": "execute_result"
    }
   ],
   "source": [
    "# this person's hourly rate is $35 more than the mean\n",
    "\n",
    "((sample_row['HourlyRate'].values[0] - df['HourlyRate'].mean()) / df['HourlyRate'].std()) * df[\"HourlyRate\"].std()"
   ]
  },
  {
   "cell_type": "code",
   "execution_count": 32,
   "metadata": {
    "scrolled": true
   },
   "outputs": [],
   "source": [
    "# Standardize the column\n",
    "mu = df['HourlyRate'].mean()\n",
    "sigma = df['HourlyRate'].std()\n",
    "standardized_rate = [(x-mu)/sigma for x in df['HourlyRate']]"
   ]
  },
  {
   "cell_type": "code",
   "execution_count": 34,
   "metadata": {},
   "outputs": [
    {
     "data": {
      "image/png": "[encoded data removed]",
      "text/plain": [
       "<Figure size 640x480 with 2 Axes>"
      ]
     },
     "metadata": {},
     "output_type": "display_data"
    }
   ],
   "source": [
    "# scaling doesn't change the distribution but puts\n",
    "# all of our values by how many stddev away from the mean\n",
    "\n",
    "# Visualize it\n",
    "fig, (ax1, ax2) = plt.subplots(nrows=2, ncols=1, sharex=True)\n",
    "# Can toggle sharex to see the impact of the scale\n",
    "\n",
    "sns.kdeplot(df['HourlyRate'], ax=ax1, label='Without Scaling')\n",
    "ax1.legend()\n",
    "\n",
    "sns.kdeplot(standardized_rate, ax=ax2, label='With Scaling')\n",
    "ax2.legend()\n",
    "\n",
    "plt.show()"
   ]
  },
  {
   "cell_type": "markdown",
   "metadata": {},
   "source": [
    "Let's discuss:\n"
   ]
  },
  {
   "cell_type": "markdown",
   "metadata": {},
   "source": [
    "## Central Limit Theorem (CLT)\n",
    "\n",
    "We mentioned that the distribution above doesn't seem very normal. But here's something cool:\n",
    "\n",
    "> \"The central limit theorem states that the sampling distribution of the mean of any independent, random variable will be normal or nearly normal, if the sample size is large enough.\" \n",
    "- From [Stat Trek](https://stattrek.com/statistics/dictionary.aspx?definition=central_limit_theorem)"
   ]
  },
  {
   "cell_type": "markdown",
   "metadata": {},
   "source": [
    "Let's look at an example, using the popular Iris dataset:\n",
    "\n",
    "<img src=\"images/probability-basics.gif\" width=800>\n",
    "\n",
    "Here, taking samples of 15 flowers at a time and measuring their sepal lengths, we see that the the mean of the samples is normally distributed, where the mean of that normal distribution approximates the population mean. \n",
    "\n",
    "The coolest part is - this is true and works almost no matter what the original distribution is! (I say 'almost' because there are exceptions, of course). Even when we have _distinctly non-normal distributions_, we can use sampling to get a representation of population parameters (like the population mean)."
   ]
  },
  {
   "cell_type": "markdown",
   "metadata": {},
   "source": [
    "## Revisiting Sampling\n",
    "\n",
    "Before we apply a theorem that's related to sampling, we should remember some key things about sampling.\n",
    "\n",
    "<img src=\"images/sample_pop.png\" alt=\"sampling example with circled people\" width=800>\n",
    "\n",
    "Our goal when sampling is to find a representative group, from which we can infer population parameters.\n",
    "\n",
    "Remember: samples have statistics, populations have parameters.\n",
    "\n",
    "In order to do this effectively, our sample should be randomly selected and representative of our population (which sounds nice and easy, it's hard to do in practice). We are trying to minimize bias in our sample, but also we are sampling because we're trying to minimize cost as well."
   ]
  },
  {
   "cell_type": "markdown",
   "metadata": {},
   "source": [
    "### Back to our Seattle Data"
   ]
  },
  {
   "cell_type": "markdown",
   "metadata": {},
   "source": [
    "Let's take 100 samples of 50 employees each time, and see what their average hourly rate is:"
   ]
  },
  {
   "cell_type": "code",
   "execution_count": 47,
   "metadata": {},
   "outputs": [],
   "source": [
    "k = 1000 # number of samples\n",
    "n = 50 # number of employees per sample\n",
    "\n",
    "# The full for loop version:\n",
    "# sample_means = []\n",
    "# for x in range(n):\n",
    "#      sample_emps = df.sample(n=n)\n",
    "#      sample_mean = sample_emps['HourlyRate'].mean()\n",
    "#      sample_means.append(sample_mean)\n",
    "    \n",
    "# But let's do this with list comprehension:\n",
    "sample_means = [np.mean(df.sample(n=n)[\"HourlyRate\"]) for x in range(k)]"
   ]
  },
  {
   "cell_type": "code",
   "execution_count": 45,
   "metadata": {},
   "outputs": [],
   "source": [
    "# OR\n",
    "sample_means = [df.sample(n=n)[\"HourlyRate\"].mean() for x in range(k)]"
   ]
  },
  {
   "cell_type": "code",
   "execution_count": 48,
   "metadata": {
    "scrolled": true
   },
   "outputs": [
    {
     "data": {
      "text/plain": [
       "[46.230922,\n",
       " 47.992596000000006,\n",
       " 46.829692,\n",
       " 48.30085999999999,\n",
       " 47.436381999999995,\n",
       " 46.767946,\n",
       " 46.609866000000004,\n",
       " 46.10124,\n",
       " 51.20314200000001,\n",
       " 51.58514,\n",
       " 48.193239999999996,\n",
       " 52.161668,\n",
       " 47.8722,\n",
       " 46.89782,\n",
       " 49.949481999999996,\n",
       " 50.064980000000006,\n",
       " 48.532911999999996,\n",
       " 45.557006,\n",
       " 48.849614,\n",
       " 45.39782399999999,\n",
       " 48.81454000000001,\n",
       " 47.773428,\n",
       " 45.87729600000001,\n",
       " 47.02120800000001,\n",
       " 47.89898,\n",
       " 46.707300000000004,\n",
       " 48.40576000000001,\n",
       " 52.437202,\n",
       " 50.12974199999999,\n",
       " 45.68677999999999,\n",
       " 49.99798,\n",
       " 49.30321000000001,\n",
       " 49.032172,\n",
       " 47.68996,\n",
       " 53.917019999999994,\n",
       " 49.22673600000001,\n",
       " 46.32316000000001,\n",
       " 48.484576,\n",
       " 51.065214000000005,\n",
       " 49.138833999999996,\n",
       " 42.86991,\n",
       " 49.3465,\n",
       " 48.822669999999995,\n",
       " 44.294439999999994,\n",
       " 46.81094000000001,\n",
       " 44.66664,\n",
       " 49.62786,\n",
       " 43.935274,\n",
       " 43.569773999999995,\n",
       " 46.690044,\n",
       " 47.20677999999999,\n",
       " 47.32971,\n",
       " 45.41776000000001,\n",
       " 52.425659999999986,\n",
       " 48.80425000000001,\n",
       " 48.45964999999999,\n",
       " 46.589558000000004,\n",
       " 49.041931999999996,\n",
       " 50.444427999999995,\n",
       " 49.91576,\n",
       " 44.86544,\n",
       " 51.114219999999996,\n",
       " 46.51103,\n",
       " 52.005236000000004,\n",
       " 44.939542,\n",
       " 47.242439999999995,\n",
       " 49.730782,\n",
       " 43.924196,\n",
       " 45.190676,\n",
       " 47.867020000000004,\n",
       " 47.90084999999999,\n",
       " 46.33244,\n",
       " 53.45822400000001,\n",
       " 49.74892599999999,\n",
       " 50.806076000000004,\n",
       " 46.147259999999996,\n",
       " 48.792378,\n",
       " 45.206682,\n",
       " 52.7234,\n",
       " 44.879898000000004,\n",
       " 52.293622000000006,\n",
       " 49.688469999999995,\n",
       " 46.677854,\n",
       " 44.20357,\n",
       " 45.05786,\n",
       " 51.33224200000001,\n",
       " 49.496976,\n",
       " 49.430960000000006,\n",
       " 43.650136,\n",
       " 48.26491999999999,\n",
       " 50.01826,\n",
       " 49.630658,\n",
       " 46.997580000000006,\n",
       " 49.967702,\n",
       " 45.759652,\n",
       " 48.258356000000006,\n",
       " 47.260784000000015,\n",
       " 45.782545999999996,\n",
       " 50.76213800000001,\n",
       " 50.80342,\n",
       " 51.03217999999999,\n",
       " 47.85786000000001,\n",
       " 45.66307000000002,\n",
       " 46.674696000000004,\n",
       " 47.7456,\n",
       " 50.31435999999999,\n",
       " 46.02408799999999,\n",
       " 45.18184,\n",
       " 50.535416000000005,\n",
       " 46.827362,\n",
       " 47.019584,\n",
       " 44.045429999999996,\n",
       " 46.300073999999995,\n",
       " 52.475459999999984,\n",
       " 50.587072,\n",
       " 49.577312,\n",
       " 45.49785600000001,\n",
       " 47.361625999999994,\n",
       " 50.15031000000001,\n",
       " 52.89682,\n",
       " 46.53066800000001,\n",
       " 45.63192,\n",
       " 45.917139999999996,\n",
       " 45.863020000000006,\n",
       " 45.426728000000004,\n",
       " 46.811940000000014,\n",
       " 52.316384000000006,\n",
       " 48.490260000000006,\n",
       " 46.01205600000001,\n",
       " 47.313448,\n",
       " 44.224180000000004,\n",
       " 49.290837999999994,\n",
       " 53.21754,\n",
       " 48.953132,\n",
       " 47.651944,\n",
       " 46.93479200000001,\n",
       " 47.87910000000001,\n",
       " 48.465722,\n",
       " 47.041954000000004,\n",
       " 47.47224,\n",
       " 48.76446000000001,\n",
       " 47.79684,\n",
       " 47.165732000000006,\n",
       " 47.557366,\n",
       " 45.10406000000001,\n",
       " 43.1707,\n",
       " 47.493164,\n",
       " 47.02688,\n",
       " 50.563558,\n",
       " 46.397318,\n",
       " 45.73324,\n",
       " 50.62234399999999,\n",
       " 50.184376,\n",
       " 46.154526000000004,\n",
       " 44.16288,\n",
       " 46.54558800000001,\n",
       " 49.308116,\n",
       " 49.112624,\n",
       " 46.186767999999994,\n",
       " 44.32828000000001,\n",
       " 50.304019999999994,\n",
       " 49.510780000000004,\n",
       " 47.80527,\n",
       " 50.24454,\n",
       " 45.778294,\n",
       " 47.11178400000001,\n",
       " 47.04104,\n",
       " 49.18312,\n",
       " 49.208501999999996,\n",
       " 46.12250000000001,\n",
       " 46.622282,\n",
       " 51.210559999999994,\n",
       " 46.12926,\n",
       " 45.3315,\n",
       " 48.68085599999999,\n",
       " 48.368892,\n",
       " 50.292002000000004,\n",
       " 48.453188,\n",
       " 46.23027000000001,\n",
       " 43.25165,\n",
       " 44.98762,\n",
       " 48.85374000000001,\n",
       " 49.24914,\n",
       " 48.949478000000006,\n",
       " 45.660986,\n",
       " 47.010985999999995,\n",
       " 43.986692000000005,\n",
       " 49.99397999999999,\n",
       " 46.39378999999999,\n",
       " 53.748046,\n",
       " 46.481579999999994,\n",
       " 49.35691999999999,\n",
       " 45.148253999999994,\n",
       " 47.457831999999996,\n",
       " 49.11387399999999,\n",
       " 46.55254999999999,\n",
       " 46.559679999999986,\n",
       " 47.1717,\n",
       " 45.766481999999996,\n",
       " 51.02071999999999,\n",
       " 52.17868000000001,\n",
       " 45.94317800000001,\n",
       " 46.0366,\n",
       " 47.15655999999999,\n",
       " 45.399573999999994,\n",
       " 49.332116000000006,\n",
       " 50.17839,\n",
       " 49.728052,\n",
       " 50.69506000000001,\n",
       " 47.10768,\n",
       " 51.546324000000006,\n",
       " 47.010819999999995,\n",
       " 47.38156199999999,\n",
       " 45.26276000000001,\n",
       " 47.976306,\n",
       " 43.516688,\n",
       " 47.26115599999999,\n",
       " 48.98354000000001,\n",
       " 46.52233000000001,\n",
       " 50.90851000000001,\n",
       " 48.12091800000001,\n",
       " 44.32974,\n",
       " 47.97544,\n",
       " 46.32518000000001,\n",
       " 46.353539999999995,\n",
       " 50.175740000000005,\n",
       " 48.389134000000006,\n",
       " 46.45836000000001,\n",
       " 45.79696,\n",
       " 48.36599999999999,\n",
       " 53.002497999999996,\n",
       " 47.05658,\n",
       " 53.102416000000005,\n",
       " 47.44703999999999,\n",
       " 46.648495999999994,\n",
       " 48.50732000000001,\n",
       " 51.72295,\n",
       " 46.0779,\n",
       " 52.16142000000001,\n",
       " 48.21806000000001,\n",
       " 45.777838,\n",
       " 45.406819999999996,\n",
       " 47.674056,\n",
       " 52.82288600000001,\n",
       " 47.320794,\n",
       " 46.62352,\n",
       " 48.65016000000001,\n",
       " 44.68561,\n",
       " 41.64180000000001,\n",
       " 42.784279999999995,\n",
       " 48.05946,\n",
       " 48.64393,\n",
       " 45.3942,\n",
       " 47.07297800000001,\n",
       " 48.601800000000004,\n",
       " 48.163599999999995,\n",
       " 51.57503600000001,\n",
       " 42.63081999999999,\n",
       " 45.93594,\n",
       " 49.92620999999999,\n",
       " 46.03109799999999,\n",
       " 50.956247999999995,\n",
       " 51.643510000000006,\n",
       " 52.26964799999999,\n",
       " 47.18766000000001,\n",
       " 44.587462,\n",
       " 49.708701999999995,\n",
       " 44.01004,\n",
       " 49.86582000000001,\n",
       " 47.77262599999999,\n",
       " 46.7944,\n",
       " 48.151924,\n",
       " 48.268463999999994,\n",
       " 46.28148,\n",
       " 50.585592,\n",
       " 44.287668,\n",
       " 43.36238399999999,\n",
       " 45.918628000000005,\n",
       " 45.026588000000004,\n",
       " 49.38012799999999,\n",
       " 50.96882000000001,\n",
       " 45.820820000000005,\n",
       " 44.04274000000001,\n",
       " 49.580029999999994,\n",
       " 44.993390000000005,\n",
       " 53.69032,\n",
       " 46.23014,\n",
       " 47.40508,\n",
       " 44.60452,\n",
       " 47.2052,\n",
       " 52.401016,\n",
       " 46.908376,\n",
       " 47.81826399999999,\n",
       " 47.787,\n",
       " 50.42773999999999,\n",
       " 47.939170000000004,\n",
       " 47.98880199999999,\n",
       " 42.38384,\n",
       " 43.689648,\n",
       " 44.31309,\n",
       " 45.29238,\n",
       " 46.25571999999999,\n",
       " 47.46886000000001,\n",
       " 48.471452,\n",
       " 51.77271200000001,\n",
       " 46.10562,\n",
       " 43.682080000000006,\n",
       " 50.969172,\n",
       " 47.842879999999994,\n",
       " 45.3601,\n",
       " 44.21134800000001,\n",
       " 47.308960000000006,\n",
       " 48.29827000000001,\n",
       " 50.193608000000005,\n",
       " 48.542742000000004,\n",
       " 47.069978,\n",
       " 44.745134,\n",
       " 44.06926000000001,\n",
       " 46.19436,\n",
       " 51.139100000000006,\n",
       " 45.15756,\n",
       " 46.959480000000006,\n",
       " 47.705600000000004,\n",
       " 45.18412,\n",
       " 47.998920000000005,\n",
       " 46.413883999999996,\n",
       " 44.1171,\n",
       " 48.389382000000005,\n",
       " 48.29042800000001,\n",
       " 49.70071,\n",
       " 46.57986,\n",
       " 44.710300000000004,\n",
       " 53.45786000000001,\n",
       " 48.17349400000001,\n",
       " 48.24568,\n",
       " 45.137404000000004,\n",
       " 46.660070000000005,\n",
       " 47.908068,\n",
       " 50.008326000000004,\n",
       " 50.356888000000005,\n",
       " 48.51034200000001,\n",
       " 47.209086000000006,\n",
       " 47.56451,\n",
       " 48.61883999999999,\n",
       " 50.12496,\n",
       " 47.00404,\n",
       " 47.50787999999999,\n",
       " 46.67439,\n",
       " 47.500640000000004,\n",
       " 48.982074000000004,\n",
       " 50.386,\n",
       " 44.691680000000005,\n",
       " 48.006686,\n",
       " 48.90144599999999,\n",
       " 47.63214,\n",
       " 46.464524000000004,\n",
       " 44.37854399999999,\n",
       " 46.75829999999999,\n",
       " 44.39599000000001,\n",
       " 51.03589399999999,\n",
       " 45.80986,\n",
       " 46.99648200000001,\n",
       " 49.437872000000006,\n",
       " 48.915986000000004,\n",
       " 44.50175,\n",
       " 49.517428,\n",
       " 47.658926,\n",
       " 51.74979999999999,\n",
       " 43.13696,\n",
       " 44.76474000000001,\n",
       " 48.913779999999996,\n",
       " 45.42947,\n",
       " 49.234046,\n",
       " 50.534378,\n",
       " 46.81608,\n",
       " 45.11623600000001,\n",
       " 44.820299999999996,\n",
       " 46.027930000000005,\n",
       " 55.05636,\n",
       " 51.11818,\n",
       " 46.5443,\n",
       " 51.63882,\n",
       " 50.128485999999995,\n",
       " 50.92525799999999,\n",
       " 47.93056199999999,\n",
       " 45.60341000000001,\n",
       " 47.52696400000001,\n",
       " 48.30669999999999,\n",
       " 43.60444,\n",
       " 49.61041,\n",
       " 48.41005199999999,\n",
       " 47.771308,\n",
       " 46.32887999999999,\n",
       " 52.811294000000004,\n",
       " 45.555478,\n",
       " 51.491440000000004,\n",
       " 52.26148000000001,\n",
       " 45.564173999999994,\n",
       " 51.2094,\n",
       " 49.10989199999999,\n",
       " 48.76224000000001,\n",
       " 50.401365999999996,\n",
       " 44.61538,\n",
       " 47.39308,\n",
       " 46.69940799999999,\n",
       " 47.12766,\n",
       " 50.580712000000005,\n",
       " 40.868408,\n",
       " 48.801188,\n",
       " 46.19353000000001,\n",
       " 47.355667999999994,\n",
       " 49.5836,\n",
       " 47.166760000000004,\n",
       " 44.8342,\n",
       " 47.14831,\n",
       " 44.900882,\n",
       " 44.90134,\n",
       " 48.31928,\n",
       " 45.234542000000005,\n",
       " 47.64138599999999,\n",
       " 46.79647400000001,\n",
       " 46.353247999999994,\n",
       " 49.64892,\n",
       " 53.381394,\n",
       " 48.840944,\n",
       " 48.55564600000002,\n",
       " 49.67698,\n",
       " 46.44998,\n",
       " 49.89790000000001,\n",
       " 50.35102,\n",
       " 47.958854,\n",
       " 47.66345999999999,\n",
       " 51.875694,\n",
       " 53.847224,\n",
       " 44.425219999999996,\n",
       " 47.223800000000004,\n",
       " 46.81494200000001,\n",
       " 48.36171399999999,\n",
       " 43.808008,\n",
       " 46.16892,\n",
       " 45.04232000000001,\n",
       " 49.36334000000001,\n",
       " 48.868736,\n",
       " 44.238606,\n",
       " 47.94636,\n",
       " 47.13056,\n",
       " 47.159262,\n",
       " 50.541002,\n",
       " 49.88558200000001,\n",
       " 48.96809999999999,\n",
       " 49.04894399999999,\n",
       " 50.710649999999994,\n",
       " 51.014756000000006,\n",
       " 46.66894,\n",
       " 50.35858,\n",
       " 49.67724000000001,\n",
       " 49.74474,\n",
       " 50.88686,\n",
       " 43.591019999999986,\n",
       " 50.972032,\n",
       " 45.157064,\n",
       " 47.37352,\n",
       " 51.268542,\n",
       " 48.97283600000001,\n",
       " 44.395784000000006,\n",
       " 45.525062,\n",
       " 49.46848,\n",
       " 45.33571800000001,\n",
       " 47.21710399999999,\n",
       " 45.09006,\n",
       " 46.25686,\n",
       " 46.140015999999996,\n",
       " 44.731976,\n",
       " 48.80907,\n",
       " 46.441652,\n",
       " 48.33921,\n",
       " 46.94560199999999,\n",
       " 49.707606,\n",
       " 46.725815999999995,\n",
       " 50.51013000000001,\n",
       " 43.89169,\n",
       " 49.763400000000004,\n",
       " 47.388248000000004,\n",
       " 49.920114000000005,\n",
       " 43.70046800000001,\n",
       " 48.749,\n",
       " 48.459010000000006,\n",
       " 46.058148,\n",
       " 47.94808200000001,\n",
       " 46.381575999999995,\n",
       " 50.890852,\n",
       " 48.60638000000001,\n",
       " 50.03488,\n",
       " 49.10012,\n",
       " 45.616614,\n",
       " 47.093478,\n",
       " 48.702704,\n",
       " 48.938978,\n",
       " 46.79942,\n",
       " 45.103100000000005,\n",
       " 50.671800000000005,\n",
       " 44.985479999999995,\n",
       " 47.34733800000001,\n",
       " 49.134671999999995,\n",
       " 45.91628000000001,\n",
       " 51.067519999999995,\n",
       " 48.459958,\n",
       " 48.627878,\n",
       " 50.773644000000004,\n",
       " 47.301654,\n",
       " 48.275322,\n",
       " 49.365932,\n",
       " 48.12228,\n",
       " 50.468157999999995,\n",
       " 54.571664,\n",
       " 50.71290000000001,\n",
       " 46.18131799999999,\n",
       " 49.87522,\n",
       " 48.292008,\n",
       " 44.525738000000004,\n",
       " 43.42918800000001,\n",
       " 48.89528,\n",
       " 51.125629999999994,\n",
       " 48.482706,\n",
       " 49.936550000000004,\n",
       " 49.42812,\n",
       " 45.297369999999994,\n",
       " 47.71741800000001,\n",
       " 47.81963599999999,\n",
       " 45.976368,\n",
       " 47.380810000000004,\n",
       " 49.00418,\n",
       " 52.54229600000001,\n",
       " 47.686679999999996,\n",
       " 47.289063999999996,\n",
       " 50.122001999999995,\n",
       " 45.55621,\n",
       " 49.310892,\n",
       " 47.259840000000004,\n",
       " 51.519479999999994,\n",
       " 44.874151999999995,\n",
       " 44.169247999999996,\n",
       " 44.09542000000001,\n",
       " 47.506762,\n",
       " 48.51492399999999,\n",
       " 46.45326,\n",
       " 45.953322,\n",
       " 49.89348399999999,\n",
       " 51.319332,\n",
       " 45.27378000000001,\n",
       " 46.986374,\n",
       " 47.816536,\n",
       " 44.77616,\n",
       " 48.48046200000001,\n",
       " 46.54915999999999,\n",
       " 45.460910000000005,\n",
       " 45.82441800000001,\n",
       " 52.288199999999996,\n",
       " 46.40292,\n",
       " 45.918302,\n",
       " 48.549222,\n",
       " 51.044772,\n",
       " 44.14306200000001,\n",
       " 43.8492,\n",
       " 47.98775,\n",
       " 48.997640000000004,\n",
       " 48.08036000000001,\n",
       " 45.70367,\n",
       " 48.070477999999994,\n",
       " 48.553031999999995,\n",
       " 47.369769999999995,\n",
       " 45.101494,\n",
       " 46.453542000000006,\n",
       " 49.30098,\n",
       " 44.456748000000005,\n",
       " 50.191858,\n",
       " 48.692322000000004,\n",
       " 43.524676,\n",
       " 47.01885600000001,\n",
       " 46.39531999999999,\n",
       " 49.50764999999999,\n",
       " 48.404923999999994,\n",
       " 44.505862,\n",
       " 47.484544,\n",
       " 45.814572000000005,\n",
       " 42.95987,\n",
       " 48.37509,\n",
       " 48.799943999999996,\n",
       " 49.946400000000004,\n",
       " 48.83106,\n",
       " 44.58878000000001,\n",
       " 52.389480000000006,\n",
       " 44.524004,\n",
       " 51.135314,\n",
       " 43.72455999999999,\n",
       " 47.086268,\n",
       " 48.96381399999999,\n",
       " 45.19146,\n",
       " 44.335387999999995,\n",
       " 48.37465999999999,\n",
       " 43.32160400000001,\n",
       " 47.85039999999999,\n",
       " 48.367160000000005,\n",
       " 44.879618,\n",
       " 49.37066,\n",
       " 47.123212,\n",
       " 48.91576,\n",
       " 46.402862000000006,\n",
       " 47.883100000000006,\n",
       " 50.53831,\n",
       " 49.671839999999996,\n",
       " 45.90932,\n",
       " 47.68242,\n",
       " 46.861999999999995,\n",
       " 48.90458399999999,\n",
       " 47.89486000000001,\n",
       " 47.69897999999999,\n",
       " 48.25523200000001,\n",
       " 45.58194399999999,\n",
       " 45.985824,\n",
       " 48.30330000000001,\n",
       " 42.892408,\n",
       " 49.026900000000005,\n",
       " 43.1412,\n",
       " 52.08782,\n",
       " 45.90836,\n",
       " 49.53472,\n",
       " 46.360941999999994,\n",
       " 47.648464000000004,\n",
       " 48.22827,\n",
       " 47.42682,\n",
       " 47.2838,\n",
       " 44.01188,\n",
       " 42.73796,\n",
       " 46.04157799999999,\n",
       " 44.746,\n",
       " 48.827600000000004,\n",
       " 46.874536,\n",
       " 47.891302,\n",
       " 45.127179999999996,\n",
       " 48.62156000000001,\n",
       " 52.64008,\n",
       " 51.930375999999995,\n",
       " 45.717822000000005,\n",
       " 51.600469999999994,\n",
       " 45.298739999999995,\n",
       " 46.17348000000001,\n",
       " 49.395720000000004,\n",
       " 51.02256800000001,\n",
       " 44.60724200000001,\n",
       " 46.06554,\n",
       " 51.25157,\n",
       " 43.031299999999995,\n",
       " 47.8608,\n",
       " 43.970780000000005,\n",
       " 46.489560000000004,\n",
       " 48.20647999999999,\n",
       " 45.97636000000001,\n",
       " 46.45022000000001,\n",
       " 51.59063799999999,\n",
       " 50.763152,\n",
       " 48.10574,\n",
       " 51.900183999999996,\n",
       " 49.201600000000006,\n",
       " 45.451381999999995,\n",
       " 48.92354,\n",
       " 45.909400000000005,\n",
       " 48.573374,\n",
       " 48.706338,\n",
       " 51.380311999999996,\n",
       " 44.57704600000001,\n",
       " 46.75094,\n",
       " 48.87646000000001,\n",
       " 45.788380000000004,\n",
       " 49.787514,\n",
       " 48.65100199999999,\n",
       " 49.49424200000001,\n",
       " 50.45218,\n",
       " 47.701170000000005,\n",
       " 46.63078,\n",
       " 43.817460000000004,\n",
       " 47.910212,\n",
       " 44.52774,\n",
       " 46.002179999999996,\n",
       " 48.130514000000005,\n",
       " 42.587520000000005,\n",
       " 49.614300000000014,\n",
       " 47.946628000000004,\n",
       " 51.095183999999996,\n",
       " 42.63002,\n",
       " 46.695842,\n",
       " 45.55209,\n",
       " 50.373506,\n",
       " 45.77517000000001,\n",
       " 45.04804000000001,\n",
       " 48.497032,\n",
       " 50.494434,\n",
       " 50.49754000000001,\n",
       " 48.80532,\n",
       " 49.18001000000001,\n",
       " 50.818681999999995,\n",
       " 47.216139999999996,\n",
       " 46.793964,\n",
       " 50.94102,\n",
       " 46.17548,\n",
       " 44.78883400000001,\n",
       " 49.09029600000001,\n",
       " 44.688177999999986,\n",
       " 48.839569999999995,\n",
       " 47.37840799999999,\n",
       " 45.91863600000001,\n",
       " 46.463292,\n",
       " 45.267204,\n",
       " 47.522922,\n",
       " 51.007709999999996,\n",
       " 46.90617999999999,\n",
       " 46.754842,\n",
       " 51.67709200000001,\n",
       " 49.219096,\n",
       " 50.997482,\n",
       " 52.13016400000001,\n",
       " 45.053509999999996,\n",
       " 48.00404199999999,\n",
       " 49.034580000000005,\n",
       " 46.865999999999985,\n",
       " 46.447134000000005,\n",
       " 47.60418,\n",
       " 48.69696,\n",
       " 47.073060000000005,\n",
       " 48.26967999999999,\n",
       " 48.792544,\n",
       " 45.27094,\n",
       " 44.45304,\n",
       " 47.46661800000001,\n",
       " 46.926272,\n",
       " 46.273109999999996,\n",
       " 47.624566,\n",
       " 44.94496,\n",
       " 44.95728199999999,\n",
       " 50.569188000000004,\n",
       " 46.285717999999996,\n",
       " 45.35074,\n",
       " 50.18146000000001,\n",
       " 47.01928,\n",
       " 45.645433999999995,\n",
       " 48.29718,\n",
       " 52.819382000000004,\n",
       " 47.89634,\n",
       " 45.941786,\n",
       " 46.5924,\n",
       " 46.830200000000005,\n",
       " 48.15068,\n",
       " 47.949660000000016,\n",
       " 44.812696,\n",
       " 47.77364000000001,\n",
       " 47.1339,\n",
       " 45.71239799999999,\n",
       " 46.25782,\n",
       " 46.379924,\n",
       " 44.805403999999996,\n",
       " 51.03622399999999,\n",
       " 48.441518,\n",
       " 46.170258,\n",
       " 47.00742800000001,\n",
       " 47.845424,\n",
       " 46.748776,\n",
       " 48.50538,\n",
       " 51.849737999999995,\n",
       " 51.50838000000001,\n",
       " 55.976818,\n",
       " 51.4165,\n",
       " 50.569714,\n",
       " 48.50094400000001,\n",
       " 51.393,\n",
       " 47.091992,\n",
       " 43.32897199999999,\n",
       " 48.579620000000006,\n",
       " 48.296006,\n",
       " 47.46403799999999,\n",
       " 46.41126000000001,\n",
       " 45.93268,\n",
       " 39.52138,\n",
       " 46.183642,\n",
       " 50.13266000000001,\n",
       " 46.04925799999999,\n",
       " 47.45222,\n",
       " 48.023179999999996,\n",
       " 50.23361800000001,\n",
       " 43.814574,\n",
       " 47.861054,\n",
       " 50.46380600000001,\n",
       " 46.56110399999999,\n",
       " 48.842652,\n",
       " 42.580552000000004,\n",
       " 46.59451,\n",
       " 46.659980000000004,\n",
       " 47.79401999999999,\n",
       " 51.645286,\n",
       " 49.10923400000001,\n",
       " 47.77091200000001,\n",
       " 45.65071999999999,\n",
       " 48.638380000000005,\n",
       " 47.13842,\n",
       " 53.4199,\n",
       " 49.92833999999999,\n",
       " 51.445772,\n",
       " 49.879732000000004,\n",
       " 44.663380000000004,\n",
       " 50.98375599999999,\n",
       " 47.53183599999999,\n",
       " 48.95155599999999,\n",
       " 48.89819199999999,\n",
       " 45.547799999999995,\n",
       " 47.319272,\n",
       " 43.207186,\n",
       " 53.094159999999995,\n",
       " 48.560894,\n",
       " 50.829498,\n",
       " 45.558445999999996,\n",
       " 43.37770000000001,\n",
       " 51.88783399999999,\n",
       " 49.669267999999995,\n",
       " 47.903152000000006,\n",
       " 49.57110000000001,\n",
       " 42.62896,\n",
       " 47.161412,\n",
       " 42.62622,\n",
       " 47.14381,\n",
       " 47.5243,\n",
       " 46.046696000000004,\n",
       " 47.549098,\n",
       " 49.26955999999999,\n",
       " 48.330560000000006,\n",
       " 48.945448000000006,\n",
       " 45.676282,\n",
       " 48.520779999999995,\n",
       " 47.451204,\n",
       " 47.859880000000004,\n",
       " 45.67112,\n",
       " 48.104724,\n",
       " 43.384980000000006,\n",
       " 43.823308,\n",
       " 50.346419999999995,\n",
       " 48.114799999999995,\n",
       " 48.139984000000005,\n",
       " 46.0285,\n",
       " 51.070514,\n",
       " 50.254788,\n",
       " 49.56461799999999,\n",
       " 50.86635400000001,\n",
       " 47.753837999999995,\n",
       " 46.038289999999996,\n",
       " 49.509944000000004,\n",
       " 45.740548,\n",
       " 46.13625199999999,\n",
       " 47.891220000000004,\n",
       " 48.793858,\n",
       " 47.71012,\n",
       " 46.194680000000005,\n",
       " 47.168062,\n",
       " 52.40747999999999,\n",
       " 47.729932,\n",
       " 49.607919999999986,\n",
       " 49.16707799999999,\n",
       " 48.56852000000001,\n",
       " 50.580607999999984,\n",
       " 48.737268,\n",
       " 47.25497800000001,\n",
       " 44.02562000000001,\n",
       " 49.70814,\n",
       " 50.14410000000001,\n",
       " 47.378564,\n",
       " 44.108198,\n",
       " 49.24915,\n",
       " 44.273328,\n",
       " 46.60314000000001,\n",
       " 47.931779999999996,\n",
       " 46.377762000000004,\n",
       " 48.14942,\n",
       " 49.56503200000001,\n",
       " 40.738758,\n",
       " 47.458499999999994,\n",
       " 50.425624000000006,\n",
       " 45.548674,\n",
       " 48.945658,\n",
       " 45.75320000000001,\n",
       " 46.773276,\n",
       " 53.05145000000002,\n",
       " 47.408554,\n",
       " 45.82964000000001,\n",
       " 49.804322,\n",
       " 45.15808000000001,\n",
       " 49.041959999999996,\n",
       " 47.673779999999994,\n",
       " 47.203030000000005,\n",
       " 45.091792000000005,\n",
       " 47.981602,\n",
       " 45.709022000000004,\n",
       " 46.251818000000014,\n",
       " 47.23353999999999,\n",
       " 45.00508800000001,\n",
       " 52.795432,\n",
       " 46.216874,\n",
       " 49.20658,\n",
       " 48.25026,\n",
       " 44.852512,\n",
       " 49.285486,\n",
       " 49.635558,\n",
       " 48.115120000000005,\n",
       " 49.05428,\n",
       " 49.086108,\n",
       " 49.125116,\n",
       " 43.85454000000001,\n",
       " 45.62469999999999,\n",
       " 47.4658,\n",
       " 48.70013,\n",
       " 46.58758600000001,\n",
       " 48.480612,\n",
       " 44.4832,\n",
       " 43.764520000000005,\n",
       " 46.46782,\n",
       " 47.79279600000001,\n",
       " 50.38276,\n",
       " 50.672816000000005,\n",
       " 52.06656,\n",
       " 42.23024,\n",
       " 50.101982,\n",
       " 51.95922,\n",
       " 46.79254,\n",
       " 45.96885999999999,\n",
       " 48.09075600000001,\n",
       " 45.74096,\n",
       " 51.071196,\n",
       " 52.03661,\n",
       " 46.9613,\n",
       " 44.768359999999994,\n",
       " 50.254086,\n",
       " 46.78719999999999,\n",
       " 48.00278,\n",
       " 49.94354799999999,\n",
       " 47.29036400000001,\n",
       " 50.61269600000001,\n",
       " 42.483760000000004,\n",
       " 47.138808,\n",
       " 47.320234,\n",
       " 47.56863800000001,\n",
       " 46.22398999999999,\n",
       " 50.352654,\n",
       " 47.60474200000001,\n",
       " 49.981120000000004,\n",
       " 49.657468,\n",
       " 46.98246000000001,\n",
       " 47.017418,\n",
       " 45.24478,\n",
       " 51.096488,\n",
       " 42.56407,\n",
       " 50.373892000000005,\n",
       " 51.02929999999999,\n",
       " 48.891314,\n",
       " 46.51563000000001,\n",
       " 43.26080000000001,\n",
       " 50.834704,\n",
       " 48.103618000000004,\n",
       " 46.505252,\n",
       " 50.62085,\n",
       " 53.569304,\n",
       " 47.36584,\n",
       " 45.110060000000004,\n",
       " 49.92014,\n",
       " 49.020060000000015,\n",
       " 51.45221199999999,\n",
       " 49.962042000000004,\n",
       " 48.050869999999996,\n",
       " 47.72917600000001,\n",
       " 47.757829999999984,\n",
       " 49.87115,\n",
       " 47.09682,\n",
       " 46.61374000000001,\n",
       " 48.08826199999999,\n",
       " 50.747626,\n",
       " 47.4481,\n",
       " 48.688768,\n",
       " 49.59008599999999,\n",
       " 50.3503,\n",
       " 51.082044,\n",
       " 48.88006,\n",
       " 47.36372999999999,\n",
       " 50.194463999999996,\n",
       " 47.42924,\n",
       " 46.981,\n",
       " 49.07264,\n",
       " 48.81778,\n",
       " 47.982960000000006,\n",
       " 48.843046000000015,\n",
       " 46.0466,\n",
       " 49.268499999999996,\n",
       " 45.91060199999999,\n",
       " 46.457076,\n",
       " 48.03403000000001,\n",
       " 46.908396]"
      ]
     },
     "execution_count": 48,
     "metadata": {},
     "output_type": "execute_result"
    }
   ],
   "source": [
    "sample_means"
   ]
  },
  {
   "cell_type": "code",
   "execution_count": 49,
   "metadata": {},
   "outputs": [
    {
     "data": {
      "text/plain": [
       "<Axes: >"
      ]
     },
     "execution_count": 49,
     "metadata": {},
     "output_type": "execute_result"
    },
    {
     "data": {
      "image/png": "[encoded data removed]",
      "text/plain": [
       "<Figure size 640x480 with 1 Axes>"
      ]
     },
     "metadata": {},
     "output_type": "display_data"
    }
   ],
   "source": [
    "df[\"HourlyRate\"].hist(bins=\"auto\")"
   ]
  },
  {
   "cell_type": "code",
   "execution_count": 50,
   "metadata": {
    "scrolled": true
   },
   "outputs": [
    {
     "data": {
      "image/png": "[encoded data removed]",
      "text/plain": [
       "<Figure size 800x600 with 1 Axes>"
      ]
     },
     "metadata": {},
     "output_type": "display_data"
    }
   ],
   "source": [
    "# Plotting the distribution of our samples, plus our pop and sample means\n",
    "pop_mean = df['HourlyRate'].mean()\n",
    "samp_mean = np.mean(sample_means)\n",
    "\n",
    "plt.figure(figsize=(8,6))\n",
    "\n",
    "sns.histplot(sample_means)\n",
    "\n",
    "plt.vlines(pop_mean, ymin=0, ymax=25, color='r', linestyle=':',\n",
    "           label=f'Population Mean: {pop_mean:.2f}')\n",
    "plt.vlines(samp_mean, ymin=0, ymax=25, color='g', linestyle=':',\n",
    "           label=f'Mean of {k} Samples: {samp_mean:.2f}')\n",
    "\n",
    "plt.legend();"
   ]
  },
  {
   "cell_type": "code",
   "execution_count": 51,
   "metadata": {},
   "outputs": [
    {
     "data": {
      "image/png": "[encoded data removed]",
      "text/plain": [
       "<Figure size 640x480 with 1 Axes>"
      ]
     },
     "metadata": {},
     "output_type": "display_data"
    }
   ],
   "source": [
    "sns.kdeplot(df['HourlyRate']);"
   ]
  },
  {
   "cell_type": "markdown",
   "metadata": {},
   "source": [
    "Discuss:\n",
    "\n",
    "- CLT at play, distribution of sample means is mostly normal (more than original)\n"
   ]
  },
  {
   "cell_type": "markdown",
   "metadata": {
    "heading_collapsed": true
   },
   "source": [
    "-----\n",
    "\n",
    "\n",
    "# Level Up: Other Distributions"
   ]
  },
  {
   "cell_type": "markdown",
   "metadata": {
    "hidden": true
   },
   "source": [
    "The world is full of distributions to explore! See some other less-common ones below:"
   ]
  },
  {
   "cell_type": "markdown",
   "metadata": {
    "hidden": true
   },
   "source": [
    "![](images/distributions.png)"
   ]
  },
  {
   "cell_type": "markdown",
   "metadata": {
    "hidden": true
   },
   "source": [
    "Now that we know a few methods in visualizing distributions 📊👀, we can start looking at different types of distributions.\n",
    "\n",
    "We can tell a lot about a distribution shape such as taking a guess of the mechanism that it took to generate the data."
   ]
  },
  {
   "cell_type": "code",
   "execution_count": null,
   "metadata": {},
   "outputs": [],
   "source": [
    "# stats.t\n",
    "# stats.geom\n",
    "# stats.poisson\n",
    "# etc."
   ]
  },
  {
   "cell_type": "markdown",
   "metadata": {},
   "source": [
    "## Level Up: SKLearn's Standard Scaler\n",
    "\n",
    "Soon we'll be using a pre-built function to scale our data: https://scikit-learn.org/stable/modules/generated/sklearn.preprocessing.StandardScaler.html\n",
    "\n",
    "Let's go ahead and peek at our first `sklearn` class!"
   ]
  },
  {
   "cell_type": "code",
   "execution_count": 52,
   "metadata": {},
   "outputs": [
    {
     "data": {
      "text/plain": [
       "0        53.740\n",
       "1        39.780\n",
       "2        29.450\n",
       "3        29.450\n",
       "4        97.164\n",
       "          ...  \n",
       "11734    41.450\n",
       "11735    33.440\n",
       "11736    33.440\n",
       "11737    30.720\n",
       "11738    29.450\n",
       "Name: HourlyRate, Length: 11739, dtype: float64"
      ]
     },
     "execution_count": 52,
     "metadata": {},
     "output_type": "execute_result"
    }
   ],
   "source": [
    "df[\"HourlyRate\"]"
   ]
  },
  {
   "cell_type": "code",
   "execution_count": 53,
   "metadata": {},
   "outputs": [
    {
     "data": {
      "text/html": [
       "<div>\n",
       "<style scoped>\n",
       "    .dataframe tbody tr th:only-of-type {\n",
       "        vertical-align: middle;\n",
       "    }\n",
       "\n",
       "    .dataframe tbody tr th {\n",
       "        vertical-align: top;\n",
       "    }\n",
       "\n",
       "    .dataframe thead th {\n",
       "        text-align: right;\n",
       "    }\n",
       "</style>\n",
       "<table border=\"1\" class=\"dataframe\">\n",
       "  <thead>\n",
       "    <tr style=\"text-align: right;\">\n",
       "      <th></th>\n",
       "      <th>HourlyRate</th>\n",
       "    </tr>\n",
       "  </thead>\n",
       "  <tbody>\n",
       "    <tr>\n",
       "      <th>0</th>\n",
       "      <td>53.740</td>\n",
       "    </tr>\n",
       "    <tr>\n",
       "      <th>1</th>\n",
       "      <td>39.780</td>\n",
       "    </tr>\n",
       "    <tr>\n",
       "      <th>2</th>\n",
       "      <td>29.450</td>\n",
       "    </tr>\n",
       "    <tr>\n",
       "      <th>3</th>\n",
       "      <td>29.450</td>\n",
       "    </tr>\n",
       "    <tr>\n",
       "      <th>4</th>\n",
       "      <td>97.164</td>\n",
       "    </tr>\n",
       "    <tr>\n",
       "      <th>...</th>\n",
       "      <td>...</td>\n",
       "    </tr>\n",
       "    <tr>\n",
       "      <th>11734</th>\n",
       "      <td>41.450</td>\n",
       "    </tr>\n",
       "    <tr>\n",
       "      <th>11735</th>\n",
       "      <td>33.440</td>\n",
       "    </tr>\n",
       "    <tr>\n",
       "      <th>11736</th>\n",
       "      <td>33.440</td>\n",
       "    </tr>\n",
       "    <tr>\n",
       "      <th>11737</th>\n",
       "      <td>30.720</td>\n",
       "    </tr>\n",
       "    <tr>\n",
       "      <th>11738</th>\n",
       "      <td>29.450</td>\n",
       "    </tr>\n",
       "  </tbody>\n",
       "</table>\n",
       "<p>11739 rows × 1 columns</p>\n",
       "</div>"
      ],
      "text/plain": [
       "       HourlyRate\n",
       "0          53.740\n",
       "1          39.780\n",
       "2          29.450\n",
       "3          29.450\n",
       "4          97.164\n",
       "...           ...\n",
       "11734      41.450\n",
       "11735      33.440\n",
       "11736      33.440\n",
       "11737      30.720\n",
       "11738      29.450\n",
       "\n",
       "[11739 rows x 1 columns]"
      ]
     },
     "execution_count": 53,
     "metadata": {},
     "output_type": "execute_result"
    }
   ],
   "source": [
    "df[[\"HourlyRate\"]]"
   ]
  },
  {
   "cell_type": "code",
   "execution_count": 54,
   "metadata": {},
   "outputs": [],
   "source": [
    "# Importing StandardScaler from the preprocessing module\n",
    "from sklearn.preprocessing import StandardScaler\n",
    "\n",
    "# Need to instantiate our scaler\n",
    "scaler = StandardScaler()\n",
    "\n",
    "# Fitting our scaler (note how we need to make the column into a dataframe)\n",
    "scaler.fit(df[['HourlyRate']])\n",
    "\n",
    "# Grabbing the transformed values out as scaled_rate\n",
    "scaled_rate = scaler.transform(df[['HourlyRate']])"
   ]
  },
  {
   "cell_type": "code",
   "execution_count": null,
   "metadata": {},
   "outputs": [],
   "source": [
    "# why do we need to use the data frame df[[\"HourlyRate\"]]\n",
    "# instead of actual series df[\"HourlyRate\"]?\n",
    "\n",
    "# so we can scale multiple columns if neceesary"
   ]
  },
  {
   "cell_type": "code",
   "execution_count": 55,
   "metadata": {},
   "outputs": [
    {
     "data": {
      "text/plain": [
       "array([[ 0.35419662],\n",
       "       [-0.48066092],\n",
       "       [-1.09843158],\n",
       "       ...,\n",
       "       [-0.85981542],\n",
       "       [-1.02248108],\n",
       "       [-1.09843158]])"
      ]
     },
     "execution_count": 55,
     "metadata": {},
     "output_type": "execute_result"
    }
   ],
   "source": [
    "scaler.fit_transform(df[['HourlyRate']])"
   ]
  },
  {
   "cell_type": "code",
   "execution_count": 56,
   "metadata": {},
   "outputs": [],
   "source": [
    "scaler = StandardScaler()"
   ]
  },
  {
   "cell_type": "code",
   "execution_count": 57,
   "metadata": {},
   "outputs": [
    {
     "data": {
      "text/plain": [
       "sklearn.preprocessing._data.StandardScaler"
      ]
     },
     "execution_count": 57,
     "metadata": {},
     "output_type": "execute_result"
    }
   ],
   "source": [
    "type(scaler)"
   ]
  },
  {
   "cell_type": "code",
   "execution_count": null,
   "metadata": {},
   "outputs": [],
   "source": [
    "# we can't access scaler.mean_ or anything calculating\n",
    "# because the scaler hasn't been fitted yet"
   ]
  },
  {
   "cell_type": "code",
   "execution_count": 58,
   "metadata": {},
   "outputs": [
    {
     "data": {
      "text/html": [
       "<style>#sk-container-id-1 {color: black;background-color: white;}#sk-container-id-1 pre{padding: 0;}#sk-container-id-1 div.sk-toggleable {background-color: white;}#sk-container-id-1 label.sk-toggleable__label {cursor: pointer;display: block;width: 100%;margin-bottom: 0;padding: 0.3em;box-sizing: border-box;text-align: center;}#sk-container-id-1 label.sk-toggleable__label-arrow:before {content: \"▸\";float: left;margin-right: 0.25em;color: #696969;}#sk-container-id-1 label.sk-toggleable__label-arrow:hover:before {color: black;}#sk-container-id-1 div.sk-estimator:hover label.sk-toggleable__label-arrow:before {color: black;}#sk-container-id-1 div.sk-toggleable__content {max-height: 0;max-width: 0;overflow: hidden;text-align: left;background-color: #f0f8ff;}#sk-container-id-1 div.sk-toggleable__content pre {margin: 0.2em;color: black;border-radius: 0.25em;background-color: #f0f8ff;}#sk-container-id-1 input.sk-toggleable__control:checked~div.sk-toggleable__content {max-height: 200px;max-width: 100%;overflow: auto;}#sk-container-id-1 input.sk-toggleable__control:checked~label.sk-toggleable__label-arrow:before {content: \"▾\";}#sk-container-id-1 div.sk-estimator input.sk-toggleable__control:checked~label.sk-toggleable__label {background-color: #d4ebff;}#sk-container-id-1 div.sk-label input.sk-toggleable__control:checked~label.sk-toggleable__label {background-color: #d4ebff;}#sk-container-id-1 input.sk-hidden--visually {border: 0;clip: rect(1px 1px 1px 1px);clip: rect(1px, 1px, 1px, 1px);height: 1px;margin: -1px;overflow: hidden;padding: 0;position: absolute;width: 1px;}#sk-container-id-1 div.sk-estimator {font-family: monospace;background-color: #f0f8ff;border: 1px dotted black;border-radius: 0.25em;box-sizing: border-box;margin-bottom: 0.5em;}#sk-container-id-1 div.sk-estimator:hover {background-color: #d4ebff;}#sk-container-id-1 div.sk-parallel-item::after {content: \"\";width: 100%;border-bottom: 1px solid gray;flex-grow: 1;}#sk-container-id-1 div.sk-label:hover label.sk-toggleable__label {background-color: #d4ebff;}#sk-container-id-1 div.sk-serial::before {content: \"\";position: absolute;border-left: 1px solid gray;box-sizing: border-box;top: 0;bottom: 0;left: 50%;z-index: 0;}#sk-container-id-1 div.sk-serial {display: flex;flex-direction: column;align-items: center;background-color: white;padding-right: 0.2em;padding-left: 0.2em;position: relative;}#sk-container-id-1 div.sk-item {position: relative;z-index: 1;}#sk-container-id-1 div.sk-parallel {display: flex;align-items: stretch;justify-content: center;background-color: white;position: relative;}#sk-container-id-1 div.sk-item::before, #sk-container-id-1 div.sk-parallel-item::before {content: \"\";position: absolute;border-left: 1px solid gray;box-sizing: border-box;top: 0;bottom: 0;left: 50%;z-index: -1;}#sk-container-id-1 div.sk-parallel-item {display: flex;flex-direction: column;z-index: 1;position: relative;background-color: white;}#sk-container-id-1 div.sk-parallel-item:first-child::after {align-self: flex-end;width: 50%;}#sk-container-id-1 div.sk-parallel-item:last-child::after {align-self: flex-start;width: 50%;}#sk-container-id-1 div.sk-parallel-item:only-child::after {width: 0;}#sk-container-id-1 div.sk-dashed-wrapped {border: 1px dashed gray;margin: 0 0.4em 0.5em 0.4em;box-sizing: border-box;padding-bottom: 0.4em;background-color: white;}#sk-container-id-1 div.sk-label label {font-family: monospace;font-weight: bold;display: inline-block;line-height: 1.2em;}#sk-container-id-1 div.sk-label-container {text-align: center;}#sk-container-id-1 div.sk-container {/* jupyter's `normalize.less` sets `[hidden] { display: none; }` but bootstrap.min.css set `[hidden] { display: none !important; }` so we also need the `!important` here to be able to override the default hidden behavior on the sphinx rendered scikit-learn.org. See: https://github.com/scikit-learn/scikit-learn/issues/21755 */display: inline-block !important;position: relative;}#sk-container-id-1 div.sk-text-repr-fallback {display: none;}</style><div id=\"sk-container-id-1\" class=\"sk-top-container\"><div class=\"sk-text-repr-fallback\"><pre>StandardScaler()</pre><b>In a Jupyter environment, please rerun this cell to show the HTML representation or trust the notebook. <br />On GitHub, the HTML representation is unable to render, please try loading this page with nbviewer.org.</b></div><div class=\"sk-container\" hidden><div class=\"sk-item\"><div class=\"sk-estimator sk-toggleable\"><input class=\"sk-toggleable__control sk-hidden--visually\" id=\"sk-estimator-id-1\" type=\"checkbox\" checked><label for=\"sk-estimator-id-1\" class=\"sk-toggleable__label sk-toggleable__label-arrow\">StandardScaler</label><div class=\"sk-toggleable__content\"><pre>StandardScaler()</pre></div></div></div></div></div>"
      ],
      "text/plain": [
       "StandardScaler()"
      ]
     },
     "execution_count": 58,
     "metadata": {},
     "output_type": "execute_result"
    }
   ],
   "source": [
    "# this tells it to learn the parameters of the model\n",
    "\n",
    "scaler.fit(df[['HourlyRate']])"
   ]
  },
  {
   "cell_type": "code",
   "execution_count": 59,
   "metadata": {},
   "outputs": [
    {
     "data": {
      "text/plain": [
       "47.81733114404976"
      ]
     },
     "execution_count": 59,
     "metadata": {},
     "output_type": "execute_result"
    }
   ],
   "source": [
    "df['HourlyRate'].mean()"
   ]
  },
  {
   "cell_type": "code",
   "execution_count": 60,
   "metadata": {},
   "outputs": [
    {
     "data": {
      "text/plain": [
       "array([47.81733114])"
      ]
     },
     "execution_count": 60,
     "metadata": {},
     "output_type": "execute_result"
    }
   ],
   "source": [
    "# now we can get the mean because the scaler has the df\n",
    "# with the information that it needs\n",
    "# NOTE: you can pass in as many cols as you want\n",
    "\n",
    "scaler.mean_"
   ]
  },
  {
   "cell_type": "code",
   "execution_count": 61,
   "metadata": {},
   "outputs": [
    {
     "data": {
      "text/plain": [
       "array([16.72141574])"
      ]
     },
     "execution_count": 61,
     "metadata": {},
     "output_type": "execute_result"
    }
   ],
   "source": [
    "scaler.scale_"
   ]
  },
  {
   "cell_type": "code",
   "execution_count": 62,
   "metadata": {},
   "outputs": [
    {
     "data": {
      "text/plain": [
       "array([[ 0.35419662],\n",
       "       [-0.48066092],\n",
       "       [-1.09843158],\n",
       "       ...,\n",
       "       [-0.85981542],\n",
       "       [-1.02248108],\n",
       "       [-1.09843158]])"
      ]
     },
     "execution_count": 62,
     "metadata": {},
     "output_type": "execute_result"
    }
   ],
   "source": [
    "# if we had a second col, we have to always\n",
    "# pass in the same cols as in our scaler \n",
    "\n",
    "scaler.transform(df[['HourlyRate']])"
   ]
  },
  {
   "cell_type": "code",
   "execution_count": 63,
   "metadata": {
    "scrolled": false
   },
   "outputs": [
    {
     "data": {
      "image/png": "[encoded data removed]",
      "text/plain": [
       "<Figure size 1000x600 with 3 Axes>"
      ]
     },
     "metadata": {},
     "output_type": "display_data"
    }
   ],
   "source": [
    "# Plot and compare results\n",
    "fig, (ax1, ax2, ax3) = plt.subplots(nrows=3, ncols=1, figsize=(10,6), sharex=True)\n",
    "\n",
    "sns.kdeplot(df['HourlyRate'], ax=ax1, label='Without Scaling')\n",
    "ax1.legend()\n",
    "\n",
    "sns.kdeplot(standardized_rate, ax=ax2, label='Manual Scaling')\n",
    "ax2.legend()\n",
    "\n",
    "sns.kdeplot(scaled_rate[:,0], ax=ax3, label='SKLearn Standard Scaling')\n",
    "ax3.legend()\n",
    "\n",
    "plt.show()"
   ]
  },
  {
   "cell_type": "code",
   "execution_count": null,
   "metadata": {},
   "outputs": [],
   "source": [
    "\"\"\"\n",
    "we have to always test models with data that the model\n",
    "wasn't trained on or else it will inherently do well.\n",
    "\n",
    "This data is called \"unseen data\". \n",
    "\n",
    "When you scale data (using scaler.fit), have to make sure\n",
    "there's no data leakage (our testing data was used as well\n",
    "to train the model). So have to make sure we scale model WITHOUT\n",
    "testing data using fit transform.\n",
    "\n",
    "\"\"\""
   ]
  },
  {
   "cell_type": "code",
   "execution_count": 64,
   "metadata": {},
   "outputs": [],
   "source": [
    "heart_df = pd.read_csv('../../Phase1/Lectures/data/heart.csv')"
   ]
  },
  {
   "cell_type": "code",
   "execution_count": 65,
   "metadata": {},
   "outputs": [
    {
     "data": {
      "text/html": [
       "<div>\n",
       "<style scoped>\n",
       "    .dataframe tbody tr th:only-of-type {\n",
       "        vertical-align: middle;\n",
       "    }\n",
       "\n",
       "    .dataframe tbody tr th {\n",
       "        vertical-align: top;\n",
       "    }\n",
       "\n",
       "    .dataframe thead th {\n",
       "        text-align: right;\n",
       "    }\n",
       "</style>\n",
       "<table border=\"1\" class=\"dataframe\">\n",
       "  <thead>\n",
       "    <tr style=\"text-align: right;\">\n",
       "      <th></th>\n",
       "      <th>age</th>\n",
       "      <th>sex</th>\n",
       "      <th>cp</th>\n",
       "      <th>trestbps</th>\n",
       "      <th>chol</th>\n",
       "      <th>fbs</th>\n",
       "      <th>restecg</th>\n",
       "      <th>thalach</th>\n",
       "      <th>exang</th>\n",
       "      <th>oldpeak</th>\n",
       "      <th>slope</th>\n",
       "      <th>ca</th>\n",
       "      <th>thal</th>\n",
       "      <th>target</th>\n",
       "    </tr>\n",
       "  </thead>\n",
       "  <tbody>\n",
       "    <tr>\n",
       "      <th>0</th>\n",
       "      <td>63</td>\n",
       "      <td>1</td>\n",
       "      <td>3</td>\n",
       "      <td>145</td>\n",
       "      <td>233</td>\n",
       "      <td>1</td>\n",
       "      <td>0</td>\n",
       "      <td>150</td>\n",
       "      <td>0</td>\n",
       "      <td>2.3</td>\n",
       "      <td>0</td>\n",
       "      <td>0</td>\n",
       "      <td>1</td>\n",
       "      <td>1</td>\n",
       "    </tr>\n",
       "    <tr>\n",
       "      <th>1</th>\n",
       "      <td>37</td>\n",
       "      <td>1</td>\n",
       "      <td>2</td>\n",
       "      <td>130</td>\n",
       "      <td>250</td>\n",
       "      <td>0</td>\n",
       "      <td>1</td>\n",
       "      <td>187</td>\n",
       "      <td>0</td>\n",
       "      <td>3.5</td>\n",
       "      <td>0</td>\n",
       "      <td>0</td>\n",
       "      <td>2</td>\n",
       "      <td>1</td>\n",
       "    </tr>\n",
       "    <tr>\n",
       "      <th>2</th>\n",
       "      <td>41</td>\n",
       "      <td>0</td>\n",
       "      <td>1</td>\n",
       "      <td>130</td>\n",
       "      <td>204</td>\n",
       "      <td>0</td>\n",
       "      <td>0</td>\n",
       "      <td>172</td>\n",
       "      <td>0</td>\n",
       "      <td>1.4</td>\n",
       "      <td>2</td>\n",
       "      <td>0</td>\n",
       "      <td>2</td>\n",
       "      <td>1</td>\n",
       "    </tr>\n",
       "    <tr>\n",
       "      <th>3</th>\n",
       "      <td>56</td>\n",
       "      <td>1</td>\n",
       "      <td>1</td>\n",
       "      <td>120</td>\n",
       "      <td>236</td>\n",
       "      <td>0</td>\n",
       "      <td>1</td>\n",
       "      <td>178</td>\n",
       "      <td>0</td>\n",
       "      <td>0.8</td>\n",
       "      <td>2</td>\n",
       "      <td>0</td>\n",
       "      <td>2</td>\n",
       "      <td>1</td>\n",
       "    </tr>\n",
       "    <tr>\n",
       "      <th>4</th>\n",
       "      <td>57</td>\n",
       "      <td>0</td>\n",
       "      <td>0</td>\n",
       "      <td>120</td>\n",
       "      <td>354</td>\n",
       "      <td>0</td>\n",
       "      <td>1</td>\n",
       "      <td>163</td>\n",
       "      <td>1</td>\n",
       "      <td>0.6</td>\n",
       "      <td>2</td>\n",
       "      <td>0</td>\n",
       "      <td>2</td>\n",
       "      <td>1</td>\n",
       "    </tr>\n",
       "    <tr>\n",
       "      <th>...</th>\n",
       "      <td>...</td>\n",
       "      <td>...</td>\n",
       "      <td>...</td>\n",
       "      <td>...</td>\n",
       "      <td>...</td>\n",
       "      <td>...</td>\n",
       "      <td>...</td>\n",
       "      <td>...</td>\n",
       "      <td>...</td>\n",
       "      <td>...</td>\n",
       "      <td>...</td>\n",
       "      <td>...</td>\n",
       "      <td>...</td>\n",
       "      <td>...</td>\n",
       "    </tr>\n",
       "    <tr>\n",
       "      <th>298</th>\n",
       "      <td>57</td>\n",
       "      <td>0</td>\n",
       "      <td>0</td>\n",
       "      <td>140</td>\n",
       "      <td>241</td>\n",
       "      <td>0</td>\n",
       "      <td>1</td>\n",
       "      <td>123</td>\n",
       "      <td>1</td>\n",
       "      <td>0.2</td>\n",
       "      <td>1</td>\n",
       "      <td>0</td>\n",
       "      <td>3</td>\n",
       "      <td>0</td>\n",
       "    </tr>\n",
       "    <tr>\n",
       "      <th>299</th>\n",
       "      <td>45</td>\n",
       "      <td>1</td>\n",
       "      <td>3</td>\n",
       "      <td>110</td>\n",
       "      <td>264</td>\n",
       "      <td>0</td>\n",
       "      <td>1</td>\n",
       "      <td>132</td>\n",
       "      <td>0</td>\n",
       "      <td>1.2</td>\n",
       "      <td>1</td>\n",
       "      <td>0</td>\n",
       "      <td>3</td>\n",
       "      <td>0</td>\n",
       "    </tr>\n",
       "    <tr>\n",
       "      <th>300</th>\n",
       "      <td>68</td>\n",
       "      <td>1</td>\n",
       "      <td>0</td>\n",
       "      <td>144</td>\n",
       "      <td>193</td>\n",
       "      <td>1</td>\n",
       "      <td>1</td>\n",
       "      <td>141</td>\n",
       "      <td>0</td>\n",
       "      <td>3.4</td>\n",
       "      <td>1</td>\n",
       "      <td>2</td>\n",
       "      <td>3</td>\n",
       "      <td>0</td>\n",
       "    </tr>\n",
       "    <tr>\n",
       "      <th>301</th>\n",
       "      <td>57</td>\n",
       "      <td>1</td>\n",
       "      <td>0</td>\n",
       "      <td>130</td>\n",
       "      <td>131</td>\n",
       "      <td>0</td>\n",
       "      <td>1</td>\n",
       "      <td>115</td>\n",
       "      <td>1</td>\n",
       "      <td>1.2</td>\n",
       "      <td>1</td>\n",
       "      <td>1</td>\n",
       "      <td>3</td>\n",
       "      <td>0</td>\n",
       "    </tr>\n",
       "    <tr>\n",
       "      <th>302</th>\n",
       "      <td>57</td>\n",
       "      <td>0</td>\n",
       "      <td>1</td>\n",
       "      <td>130</td>\n",
       "      <td>236</td>\n",
       "      <td>0</td>\n",
       "      <td>0</td>\n",
       "      <td>174</td>\n",
       "      <td>0</td>\n",
       "      <td>0.0</td>\n",
       "      <td>1</td>\n",
       "      <td>1</td>\n",
       "      <td>2</td>\n",
       "      <td>0</td>\n",
       "    </tr>\n",
       "  </tbody>\n",
       "</table>\n",
       "<p>303 rows × 14 columns</p>\n",
       "</div>"
      ],
      "text/plain": [
       "     age  sex  cp  trestbps  chol  fbs  restecg  thalach  exang  oldpeak  \\\n",
       "0     63    1   3       145   233    1        0      150      0      2.3   \n",
       "1     37    1   2       130   250    0        1      187      0      3.5   \n",
       "2     41    0   1       130   204    0        0      172      0      1.4   \n",
       "3     56    1   1       120   236    0        1      178      0      0.8   \n",
       "4     57    0   0       120   354    0        1      163      1      0.6   \n",
       "..   ...  ...  ..       ...   ...  ...      ...      ...    ...      ...   \n",
       "298   57    0   0       140   241    0        1      123      1      0.2   \n",
       "299   45    1   3       110   264    0        1      132      0      1.2   \n",
       "300   68    1   0       144   193    1        1      141      0      3.4   \n",
       "301   57    1   0       130   131    0        1      115      1      1.2   \n",
       "302   57    0   1       130   236    0        0      174      0      0.0   \n",
       "\n",
       "     slope  ca  thal  target  \n",
       "0        0   0     1       1  \n",
       "1        0   0     2       1  \n",
       "2        2   0     2       1  \n",
       "3        2   0     2       1  \n",
       "4        2   0     2       1  \n",
       "..     ...  ..   ...     ...  \n",
       "298      1   0     3       0  \n",
       "299      1   0     3       0  \n",
       "300      1   2     3       0  \n",
       "301      1   1     3       0  \n",
       "302      1   1     2       0  \n",
       "\n",
       "[303 rows x 14 columns]"
      ]
     },
     "execution_count": 65,
     "metadata": {},
     "output_type": "execute_result"
    }
   ],
   "source": [
    "heart_df"
   ]
  },
  {
   "cell_type": "code",
   "execution_count": 66,
   "metadata": {},
   "outputs": [],
   "source": [
    "scaler2 = StandardScaler()"
   ]
  },
  {
   "cell_type": "code",
   "execution_count": 67,
   "metadata": {},
   "outputs": [
    {
     "data": {
      "text/html": [
       "<style>#sk-container-id-2 {color: black;background-color: white;}#sk-container-id-2 pre{padding: 0;}#sk-container-id-2 div.sk-toggleable {background-color: white;}#sk-container-id-2 label.sk-toggleable__label {cursor: pointer;display: block;width: 100%;margin-bottom: 0;padding: 0.3em;box-sizing: border-box;text-align: center;}#sk-container-id-2 label.sk-toggleable__label-arrow:before {content: \"▸\";float: left;margin-right: 0.25em;color: #696969;}#sk-container-id-2 label.sk-toggleable__label-arrow:hover:before {color: black;}#sk-container-id-2 div.sk-estimator:hover label.sk-toggleable__label-arrow:before {color: black;}#sk-container-id-2 div.sk-toggleable__content {max-height: 0;max-width: 0;overflow: hidden;text-align: left;background-color: #f0f8ff;}#sk-container-id-2 div.sk-toggleable__content pre {margin: 0.2em;color: black;border-radius: 0.25em;background-color: #f0f8ff;}#sk-container-id-2 input.sk-toggleable__control:checked~div.sk-toggleable__content {max-height: 200px;max-width: 100%;overflow: auto;}#sk-container-id-2 input.sk-toggleable__control:checked~label.sk-toggleable__label-arrow:before {content: \"▾\";}#sk-container-id-2 div.sk-estimator input.sk-toggleable__control:checked~label.sk-toggleable__label {background-color: #d4ebff;}#sk-container-id-2 div.sk-label input.sk-toggleable__control:checked~label.sk-toggleable__label {background-color: #d4ebff;}#sk-container-id-2 input.sk-hidden--visually {border: 0;clip: rect(1px 1px 1px 1px);clip: rect(1px, 1px, 1px, 1px);height: 1px;margin: -1px;overflow: hidden;padding: 0;position: absolute;width: 1px;}#sk-container-id-2 div.sk-estimator {font-family: monospace;background-color: #f0f8ff;border: 1px dotted black;border-radius: 0.25em;box-sizing: border-box;margin-bottom: 0.5em;}#sk-container-id-2 div.sk-estimator:hover {background-color: #d4ebff;}#sk-container-id-2 div.sk-parallel-item::after {content: \"\";width: 100%;border-bottom: 1px solid gray;flex-grow: 1;}#sk-container-id-2 div.sk-label:hover label.sk-toggleable__label {background-color: #d4ebff;}#sk-container-id-2 div.sk-serial::before {content: \"\";position: absolute;border-left: 1px solid gray;box-sizing: border-box;top: 0;bottom: 0;left: 50%;z-index: 0;}#sk-container-id-2 div.sk-serial {display: flex;flex-direction: column;align-items: center;background-color: white;padding-right: 0.2em;padding-left: 0.2em;position: relative;}#sk-container-id-2 div.sk-item {position: relative;z-index: 1;}#sk-container-id-2 div.sk-parallel {display: flex;align-items: stretch;justify-content: center;background-color: white;position: relative;}#sk-container-id-2 div.sk-item::before, #sk-container-id-2 div.sk-parallel-item::before {content: \"\";position: absolute;border-left: 1px solid gray;box-sizing: border-box;top: 0;bottom: 0;left: 50%;z-index: -1;}#sk-container-id-2 div.sk-parallel-item {display: flex;flex-direction: column;z-index: 1;position: relative;background-color: white;}#sk-container-id-2 div.sk-parallel-item:first-child::after {align-self: flex-end;width: 50%;}#sk-container-id-2 div.sk-parallel-item:last-child::after {align-self: flex-start;width: 50%;}#sk-container-id-2 div.sk-parallel-item:only-child::after {width: 0;}#sk-container-id-2 div.sk-dashed-wrapped {border: 1px dashed gray;margin: 0 0.4em 0.5em 0.4em;box-sizing: border-box;padding-bottom: 0.4em;background-color: white;}#sk-container-id-2 div.sk-label label {font-family: monospace;font-weight: bold;display: inline-block;line-height: 1.2em;}#sk-container-id-2 div.sk-label-container {text-align: center;}#sk-container-id-2 div.sk-container {/* jupyter's `normalize.less` sets `[hidden] { display: none; }` but bootstrap.min.css set `[hidden] { display: none !important; }` so we also need the `!important` here to be able to override the default hidden behavior on the sphinx rendered scikit-learn.org. See: https://github.com/scikit-learn/scikit-learn/issues/21755 */display: inline-block !important;position: relative;}#sk-container-id-2 div.sk-text-repr-fallback {display: none;}</style><div id=\"sk-container-id-2\" class=\"sk-top-container\"><div class=\"sk-text-repr-fallback\"><pre>StandardScaler()</pre><b>In a Jupyter environment, please rerun this cell to show the HTML representation or trust the notebook. <br />On GitHub, the HTML representation is unable to render, please try loading this page with nbviewer.org.</b></div><div class=\"sk-container\" hidden><div class=\"sk-item\"><div class=\"sk-estimator sk-toggleable\"><input class=\"sk-toggleable__control sk-hidden--visually\" id=\"sk-estimator-id-2\" type=\"checkbox\" checked><label for=\"sk-estimator-id-2\" class=\"sk-toggleable__label sk-toggleable__label-arrow\">StandardScaler</label><div class=\"sk-toggleable__content\"><pre>StandardScaler()</pre></div></div></div></div></div>"
      ],
      "text/plain": [
       "StandardScaler()"
      ]
     },
     "execution_count": 67,
     "metadata": {},
     "output_type": "execute_result"
    }
   ],
   "source": [
    "scaler2.fit(heart_df)"
   ]
  },
  {
   "cell_type": "code",
   "execution_count": 68,
   "metadata": {},
   "outputs": [
    {
     "data": {
      "text/plain": [
       "array([5.43663366e+01, 6.83168317e-01, 9.66996700e-01, 1.31623762e+02,\n",
       "       2.46264026e+02, 1.48514851e-01, 5.28052805e-01, 1.49646865e+02,\n",
       "       3.26732673e-01, 1.03960396e+00, 1.39933993e+00, 7.29372937e-01,\n",
       "       2.31353135e+00, 5.44554455e-01])"
      ]
     },
     "execution_count": 68,
     "metadata": {},
     "output_type": "execute_result"
    }
   ],
   "source": [
    "scaler2.mean_"
   ]
  },
  {
   "cell_type": "code",
   "execution_count": 69,
   "metadata": {},
   "outputs": [
    {
     "data": {
      "text/plain": [
       "array([[ 0.9521966 ,  0.68100522,  1.97312292, ..., -0.71442887,\n",
       "        -2.14887271,  0.91452919],\n",
       "       [-1.91531289,  0.68100522,  1.00257707, ..., -0.71442887,\n",
       "        -0.51292188,  0.91452919],\n",
       "       [-1.47415758, -1.46841752,  0.03203122, ..., -0.71442887,\n",
       "        -0.51292188,  0.91452919],\n",
       "       ...,\n",
       "       [ 1.50364073,  0.68100522, -0.93851463, ...,  1.24459328,\n",
       "         1.12302895, -1.09345881],\n",
       "       [ 0.29046364,  0.68100522, -0.93851463, ...,  0.26508221,\n",
       "         1.12302895, -1.09345881],\n",
       "       [ 0.29046364, -1.46841752,  0.03203122, ...,  0.26508221,\n",
       "        -0.51292188, -1.09345881]])"
      ]
     },
     "execution_count": 69,
     "metadata": {},
     "output_type": "execute_result"
    }
   ],
   "source": [
    "scaler2.transform(heart_df)"
   ]
  },
  {
   "cell_type": "code",
   "execution_count": 70,
   "metadata": {},
   "outputs": [
    {
     "data": {
      "text/html": [
       "<div>\n",
       "<style scoped>\n",
       "    .dataframe tbody tr th:only-of-type {\n",
       "        vertical-align: middle;\n",
       "    }\n",
       "\n",
       "    .dataframe tbody tr th {\n",
       "        vertical-align: top;\n",
       "    }\n",
       "\n",
       "    .dataframe thead th {\n",
       "        text-align: right;\n",
       "    }\n",
       "</style>\n",
       "<table border=\"1\" class=\"dataframe\">\n",
       "  <thead>\n",
       "    <tr style=\"text-align: right;\">\n",
       "      <th></th>\n",
       "      <th>age</th>\n",
       "      <th>sex</th>\n",
       "      <th>cp</th>\n",
       "      <th>trestbps</th>\n",
       "      <th>chol</th>\n",
       "      <th>fbs</th>\n",
       "      <th>restecg</th>\n",
       "      <th>thalach</th>\n",
       "      <th>exang</th>\n",
       "      <th>oldpeak</th>\n",
       "      <th>slope</th>\n",
       "      <th>ca</th>\n",
       "      <th>thal</th>\n",
       "      <th>target</th>\n",
       "    </tr>\n",
       "  </thead>\n",
       "  <tbody>\n",
       "    <tr>\n",
       "      <th>0</th>\n",
       "      <td>0.952197</td>\n",
       "      <td>0.681005</td>\n",
       "      <td>1.973123</td>\n",
       "      <td>0.763956</td>\n",
       "      <td>-0.256334</td>\n",
       "      <td>2.394438</td>\n",
       "      <td>-1.005832</td>\n",
       "      <td>0.015443</td>\n",
       "      <td>-0.696631</td>\n",
       "      <td>1.087338</td>\n",
       "      <td>-2.274579</td>\n",
       "      <td>-0.714429</td>\n",
       "      <td>-2.148873</td>\n",
       "      <td>0.914529</td>\n",
       "    </tr>\n",
       "    <tr>\n",
       "      <th>1</th>\n",
       "      <td>-1.915313</td>\n",
       "      <td>0.681005</td>\n",
       "      <td>1.002577</td>\n",
       "      <td>-0.092738</td>\n",
       "      <td>0.072199</td>\n",
       "      <td>-0.417635</td>\n",
       "      <td>0.898962</td>\n",
       "      <td>1.633471</td>\n",
       "      <td>-0.696631</td>\n",
       "      <td>2.122573</td>\n",
       "      <td>-2.274579</td>\n",
       "      <td>-0.714429</td>\n",
       "      <td>-0.512922</td>\n",
       "      <td>0.914529</td>\n",
       "    </tr>\n",
       "    <tr>\n",
       "      <th>2</th>\n",
       "      <td>-1.474158</td>\n",
       "      <td>-1.468418</td>\n",
       "      <td>0.032031</td>\n",
       "      <td>-0.092738</td>\n",
       "      <td>-0.816773</td>\n",
       "      <td>-0.417635</td>\n",
       "      <td>-1.005832</td>\n",
       "      <td>0.977514</td>\n",
       "      <td>-0.696631</td>\n",
       "      <td>0.310912</td>\n",
       "      <td>0.976352</td>\n",
       "      <td>-0.714429</td>\n",
       "      <td>-0.512922</td>\n",
       "      <td>0.914529</td>\n",
       "    </tr>\n",
       "    <tr>\n",
       "      <th>3</th>\n",
       "      <td>0.180175</td>\n",
       "      <td>0.681005</td>\n",
       "      <td>0.032031</td>\n",
       "      <td>-0.663867</td>\n",
       "      <td>-0.198357</td>\n",
       "      <td>-0.417635</td>\n",
       "      <td>0.898962</td>\n",
       "      <td>1.239897</td>\n",
       "      <td>-0.696631</td>\n",
       "      <td>-0.206705</td>\n",
       "      <td>0.976352</td>\n",
       "      <td>-0.714429</td>\n",
       "      <td>-0.512922</td>\n",
       "      <td>0.914529</td>\n",
       "    </tr>\n",
       "    <tr>\n",
       "      <th>4</th>\n",
       "      <td>0.290464</td>\n",
       "      <td>-1.468418</td>\n",
       "      <td>-0.938515</td>\n",
       "      <td>-0.663867</td>\n",
       "      <td>2.082050</td>\n",
       "      <td>-0.417635</td>\n",
       "      <td>0.898962</td>\n",
       "      <td>0.583939</td>\n",
       "      <td>1.435481</td>\n",
       "      <td>-0.379244</td>\n",
       "      <td>0.976352</td>\n",
       "      <td>-0.714429</td>\n",
       "      <td>-0.512922</td>\n",
       "      <td>0.914529</td>\n",
       "    </tr>\n",
       "    <tr>\n",
       "      <th>...</th>\n",
       "      <td>...</td>\n",
       "      <td>...</td>\n",
       "      <td>...</td>\n",
       "      <td>...</td>\n",
       "      <td>...</td>\n",
       "      <td>...</td>\n",
       "      <td>...</td>\n",
       "      <td>...</td>\n",
       "      <td>...</td>\n",
       "      <td>...</td>\n",
       "      <td>...</td>\n",
       "      <td>...</td>\n",
       "      <td>...</td>\n",
       "      <td>...</td>\n",
       "    </tr>\n",
       "    <tr>\n",
       "      <th>298</th>\n",
       "      <td>0.290464</td>\n",
       "      <td>-1.468418</td>\n",
       "      <td>-0.938515</td>\n",
       "      <td>0.478391</td>\n",
       "      <td>-0.101730</td>\n",
       "      <td>-0.417635</td>\n",
       "      <td>0.898962</td>\n",
       "      <td>-1.165281</td>\n",
       "      <td>1.435481</td>\n",
       "      <td>-0.724323</td>\n",
       "      <td>-0.649113</td>\n",
       "      <td>-0.714429</td>\n",
       "      <td>1.123029</td>\n",
       "      <td>-1.093459</td>\n",
       "    </tr>\n",
       "    <tr>\n",
       "      <th>299</th>\n",
       "      <td>-1.033002</td>\n",
       "      <td>0.681005</td>\n",
       "      <td>1.973123</td>\n",
       "      <td>-1.234996</td>\n",
       "      <td>0.342756</td>\n",
       "      <td>-0.417635</td>\n",
       "      <td>0.898962</td>\n",
       "      <td>-0.771706</td>\n",
       "      <td>-0.696631</td>\n",
       "      <td>0.138373</td>\n",
       "      <td>-0.649113</td>\n",
       "      <td>-0.714429</td>\n",
       "      <td>1.123029</td>\n",
       "      <td>-1.093459</td>\n",
       "    </tr>\n",
       "    <tr>\n",
       "      <th>300</th>\n",
       "      <td>1.503641</td>\n",
       "      <td>0.681005</td>\n",
       "      <td>-0.938515</td>\n",
       "      <td>0.706843</td>\n",
       "      <td>-1.029353</td>\n",
       "      <td>2.394438</td>\n",
       "      <td>0.898962</td>\n",
       "      <td>-0.378132</td>\n",
       "      <td>-0.696631</td>\n",
       "      <td>2.036303</td>\n",
       "      <td>-0.649113</td>\n",
       "      <td>1.244593</td>\n",
       "      <td>1.123029</td>\n",
       "      <td>-1.093459</td>\n",
       "    </tr>\n",
       "    <tr>\n",
       "      <th>301</th>\n",
       "      <td>0.290464</td>\n",
       "      <td>0.681005</td>\n",
       "      <td>-0.938515</td>\n",
       "      <td>-0.092738</td>\n",
       "      <td>-2.227533</td>\n",
       "      <td>-0.417635</td>\n",
       "      <td>0.898962</td>\n",
       "      <td>-1.515125</td>\n",
       "      <td>1.435481</td>\n",
       "      <td>0.138373</td>\n",
       "      <td>-0.649113</td>\n",
       "      <td>0.265082</td>\n",
       "      <td>1.123029</td>\n",
       "      <td>-1.093459</td>\n",
       "    </tr>\n",
       "    <tr>\n",
       "      <th>302</th>\n",
       "      <td>0.290464</td>\n",
       "      <td>-1.468418</td>\n",
       "      <td>0.032031</td>\n",
       "      <td>-0.092738</td>\n",
       "      <td>-0.198357</td>\n",
       "      <td>-0.417635</td>\n",
       "      <td>-1.005832</td>\n",
       "      <td>1.064975</td>\n",
       "      <td>-0.696631</td>\n",
       "      <td>-0.896862</td>\n",
       "      <td>-0.649113</td>\n",
       "      <td>0.265082</td>\n",
       "      <td>-0.512922</td>\n",
       "      <td>-1.093459</td>\n",
       "    </tr>\n",
       "  </tbody>\n",
       "</table>\n",
       "<p>303 rows × 14 columns</p>\n",
       "</div>"
      ],
      "text/plain": [
       "          age       sex        cp  trestbps      chol       fbs   restecg  \\\n",
       "0    0.952197  0.681005  1.973123  0.763956 -0.256334  2.394438 -1.005832   \n",
       "1   -1.915313  0.681005  1.002577 -0.092738  0.072199 -0.417635  0.898962   \n",
       "2   -1.474158 -1.468418  0.032031 -0.092738 -0.816773 -0.417635 -1.005832   \n",
       "3    0.180175  0.681005  0.032031 -0.663867 -0.198357 -0.417635  0.898962   \n",
       "4    0.290464 -1.468418 -0.938515 -0.663867  2.082050 -0.417635  0.898962   \n",
       "..        ...       ...       ...       ...       ...       ...       ...   \n",
       "298  0.290464 -1.468418 -0.938515  0.478391 -0.101730 -0.417635  0.898962   \n",
       "299 -1.033002  0.681005  1.973123 -1.234996  0.342756 -0.417635  0.898962   \n",
       "300  1.503641  0.681005 -0.938515  0.706843 -1.029353  2.394438  0.898962   \n",
       "301  0.290464  0.681005 -0.938515 -0.092738 -2.227533 -0.417635  0.898962   \n",
       "302  0.290464 -1.468418  0.032031 -0.092738 -0.198357 -0.417635 -1.005832   \n",
       "\n",
       "      thalach     exang   oldpeak     slope        ca      thal    target  \n",
       "0    0.015443 -0.696631  1.087338 -2.274579 -0.714429 -2.148873  0.914529  \n",
       "1    1.633471 -0.696631  2.122573 -2.274579 -0.714429 -0.512922  0.914529  \n",
       "2    0.977514 -0.696631  0.310912  0.976352 -0.714429 -0.512922  0.914529  \n",
       "3    1.239897 -0.696631 -0.206705  0.976352 -0.714429 -0.512922  0.914529  \n",
       "4    0.583939  1.435481 -0.379244  0.976352 -0.714429 -0.512922  0.914529  \n",
       "..        ...       ...       ...       ...       ...       ...       ...  \n",
       "298 -1.165281  1.435481 -0.724323 -0.649113 -0.714429  1.123029 -1.093459  \n",
       "299 -0.771706 -0.696631  0.138373 -0.649113 -0.714429  1.123029 -1.093459  \n",
       "300 -0.378132 -0.696631  2.036303 -0.649113  1.244593  1.123029 -1.093459  \n",
       "301 -1.515125  1.435481  0.138373 -0.649113  0.265082  1.123029 -1.093459  \n",
       "302  1.064975 -0.696631 -0.896862 -0.649113  0.265082 -0.512922 -1.093459  \n",
       "\n",
       "[303 rows x 14 columns]"
      ]
     },
     "execution_count": 70,
     "metadata": {},
     "output_type": "execute_result"
    }
   ],
   "source": [
    "pd.DataFrame(scaler2.transform(heart_df), columns=heart_df.columns)"
   ]
  },
  {
   "cell_type": "code",
   "execution_count": null,
   "metadata": {},
   "outputs": [],
   "source": []
  }
 ],
 "metadata": {
  "kernelspec": {
   "display_name": "Cohort-Env",
   "language": "python",
   "name": "python3"
  },
  "language_info": {
   "codemirror_mode": {
    "name": "ipython",
    "version": 3
   },
   "file_extension": ".py",
   "mimetype": "text/x-python",
   "name": "python",
   "nbconvert_exporter": "python",
   "pygments_lexer": "ipython3",
   "version": "3.8.19"
  },
  "toc": {
   "base_numbering": 1,
   "nav_menu": {},
   "number_sections": true,
   "sideBar": true,
   "skip_h1_title": false,
   "title_cell": "Table of Contents",
   "title_sidebar": "TOC",
   "toc_cell": true,
   "toc_position": {
    "height": "calc(100% - 180px)",
    "left": "10px",
    "top": "150px",
    "width": "380.25px"
   },
   "toc_section_display": true,
   "toc_window_display": true
  }
 },
 "nbformat": 4,
 "nbformat_minor": 4
}
